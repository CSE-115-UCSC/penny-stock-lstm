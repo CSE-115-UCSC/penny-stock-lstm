{
 "cells": [
  {
   "cell_type": "code",
   "execution_count": null,
   "metadata": {},
   "outputs": [],
   "source": [
    "import StockData\n",
    "import Preprocessor\n",
    "import Model"
   ]
  },
  {
   "cell_type": "markdown",
   "metadata": {},
   "source": [
    "# Preprocessing"
   ]
  },
  {
   "cell_type": "markdown",
   "metadata": {},
   "source": [
    "## Compute alternate variables\n",
    " - Drift\n",
    " - Volatility\n",
    " - Etc\n"
   ]
  },
  {
   "cell_type": "code",
   "execution_count": null,
   "metadata": {},
   "outputs": [],
   "source": [
    "data_preprocessor = Preprocessor.Preprocessor('historical_data/stockdata_imputed.db',\n",
    "                                              drift=True,\n",
    "                                              volatility=True,\n",
    "                                              moving_avg=True,\n",
    "                                              momentum=True,\n",
    "                                              volume_features=True,\n",
    "                                              support_resistance=True,\n",
    "                                              bollinger_bands=True,\n",
    "                                              z_score=True)"
   ]
  },
  {
   "cell_type": "markdown",
   "metadata": {},
   "source": [
    "## Scale each ticker's data [0,1] "
   ]
  },
  {
   "cell_type": "markdown",
   "metadata": {},
   "source": [
    "# Create model"
   ]
  },
  {
   "cell_type": "code",
   "execution_count": null,
   "metadata": {},
   "outputs": [],
   "source": [
    "# Load your dataset\n",
    "model = Model.StockLSTMModel('historical_data/sd_pre.db')\n",
    "\n",
    "# Create and train the model\n",
    "model.train_model()\n"
   ]
  }
 ],
 "metadata": {
  "kernelspec": {
   "display_name": "venv",
   "language": "python",
   "name": "python3"
  },
  "language_info": {
   "codemirror_mode": {
    "name": "ipython",
    "version": 3
   },
   "file_extension": ".py",
   "mimetype": "text/x-python",
   "name": "python",
   "nbconvert_exporter": "python",
   "pygments_lexer": "ipython3",
   "version": "3.12.6"
  }
 },
 "nbformat": 4,
 "nbformat_minor": 2
}
