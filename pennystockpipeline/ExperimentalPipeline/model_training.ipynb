{
 "cells": [
  {
   "cell_type": "code",
   "execution_count": null,
   "metadata": {},
   "outputs": [],
   "source": [
    "import Preprocessor\n",
    "import Model"
   ]
  },
  {
   "cell_type": "markdown",
   "metadata": {},
   "source": [
    "# Preprocessing"
   ]
  },
  {
   "cell_type": "code",
   "execution_count": null,
   "metadata": {},
   "outputs": [],
   "source": [
    "data_preprocessor = Preprocessor.Preprocessor('historical_data/stockdata_imputed.db',\n",
    "                                              drift=True,\n",
    "                                              volatility=True,\n",
    "                                              moving_avg=True,\n",
    "                                              momentum=True,\n",
    "                                              volume_features=True,\n",
    "                                              support_resistance=True,\n",
    "                                              bollinger_bands=True,\n",
    "                                              z_score=True)"
   ]
  },
  {
   "cell_type": "code",
   "execution_count": null,
   "metadata": {},
   "outputs": [],
   "source": [
    "# Create normalized db, store in 'historical_data/sd_pre_n.db'\n",
    "normalized_data, X_sequences, y_sequences = data_preprocessor.normalize()\n",
    "\n",
    "normalized_data.head()"
   ]
  },
  {
   "cell_type": "markdown",
   "metadata": {},
   "source": [
    "# Create model"
   ]
  },
  {
   "cell_type": "code",
   "execution_count": null,
   "metadata": {},
   "outputs": [],
   "source": [
    "# Load your dataset\n",
    "model = Model.StockLSTMModel(normalized_data, \n",
    "                             X_sequences, \n",
    "                             y_sequences,\n",
    "                             scalers=data_preprocessor.scalers)\n",
    "\n",
    "# Create and train the model\n",
    "model.train_model()\n"
   ]
  },
  {
   "cell_type": "markdown",
   "metadata": {},
   "source": [
    "# Predict on new stock"
   ]
  },
  {
   "cell_type": "code",
   "execution_count": null,
   "metadata": {},
   "outputs": [],
   "source": [
    "# Parameters for prediction\n",
    "prediction_date = '2023-06-01'  # Example date in your historical data\n",
    "known_timestamps = 50  # Number of known timestamps (out of 79 per day)\n",
    "horizon = 17  # Example horizon value (target stock price)\n",
    "\n",
    "# Call the predict function and plot results\n",
    "model.predict(normalized_data, data_preprocessor.scalers, prediction_date, known_timestamps, horizon)"
   ]
  }
 ],
 "metadata": {
  "kernelspec": {
   "display_name": "venv",
   "language": "python",
   "name": "python3"
  },
  "language_info": {
   "codemirror_mode": {
    "name": "ipython",
    "version": 3
   },
   "file_extension": ".py",
   "mimetype": "text/x-python",
   "name": "python",
   "nbconvert_exporter": "python",
   "pygments_lexer": "ipython3",
   "version": "3.12.6"
  }
 },
 "nbformat": 4,
 "nbformat_minor": 2
}
