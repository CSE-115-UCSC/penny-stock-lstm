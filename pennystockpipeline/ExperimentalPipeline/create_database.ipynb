{
 "cells": [
  {
   "cell_type": "code",
   "execution_count": null,
   "metadata": {},
   "outputs": [],
   "source": [
    "import StockData\n",
    "polygon_key = \"\"\n",
    "finnhub_key = \"\"\n",
    "alpha_vantage_key = \"\""
   ]
  },
  {
   "cell_type": "markdown",
   "metadata": {},
   "source": [
    "## Gather Stock tickers"
   ]
  },
  {
   "cell_type": "code",
   "execution_count": null,
   "metadata": {},
   "outputs": [],
   "source": [
    "penny_stock_tickers = StockData.Tickers(polygon_key=polygon_key, \n",
    "                                        finnhub_key=finnhub_key,\n",
    "                                        market='stocks', \n",
    "                                        stock_type='penny', \n",
    "                                        rank_by_volume=True,\n",
    ")\n",
    "\n",
    "penny_stock_tickers.get_tickers(amount=60)"
   ]
  },
  {
   "cell_type": "markdown",
   "metadata": {},
   "source": [
    "## Gather historical data for each ticker\n",
    "- Store the data for each ticker in a csv file titled \"ticker.csv\", located in the local folder \"/historical_data\""
   ]
  },
  {
   "cell_type": "code",
   "execution_count": null,
   "metadata": {},
   "outputs": [],
   "source": [
    "# NOTE: This code looks to store all the historical data within a local directory named \"/historical_data\". If you do not have one titled that, please create one\n",
    "\n",
    "# Specify which api to use as well as start/end dates\n",
    "# Currently implemented APIs:\n",
    "#   - polygon (only one that works right now)\n",
    "#   - alpha_vantage (does not work with OTC tickers)\n",
    "#   - finnhub (does not provide intraday in free version)\n",
    "\n",
    "penny_stock_historical_data = StockData.Historical(api=\"polygon\",\n",
    "                                                   api_key=polygon_key,\n",
    "                                                   tickers=penny_stock_tickers.tickers,\n",
    "                                                   start_date='2023-01-01', \n",
    "                                                   end_date='2024-01-01'\n",
    ")\n",
    "\n",
    "# Gather historical data and store in separate .csv's\n",
    "penny_stock_historical_data.gather_historical(extra_hours=False)\n",
    "\n",
    "# Save historical data to SQL db\n",
    "penny_stock_historical_data.to_sql()"
   ]
  },
  {
   "cell_type": "code",
   "execution_count": null,
   "metadata": {},
   "outputs": [],
   "source": [
    "penny_stock_historical_data.to_sql()"
   ]
  },
  {
   "cell_type": "code",
   "execution_count": null,
   "metadata": {},
   "outputs": [],
   "source": [
    "# Impute missing data\n",
    "\"\"\"\n",
    "- amount:\n",
    "    - complete (impute 100% of time)\n",
    "    - day (impute to fill only the days that have existing data, no matter how little)\n",
    "- fill:\n",
    "    - forward\n",
    "    - interpolate_linear\n",
    "    - interpolate_polynomial\n",
    "    - rolling\n",
    "- dropout_threshhold: (default 0, this value is the % of non-imputed data required for a stock to not be discarded.)\n",
    "    - ex: 0.7\n",
    "\n",
    "\"\"\"\n",
    "penny_stock_historical_data.impute(amount=\"day\",\n",
    "                                   fill=\"forward\",\n",
    "                                   dropout_threshold=0.75)\n",
    "\n",
    "# Display header\n",
    "penny_stock_historical_data.imputed_data.head()"
   ]
  }
 ],
 "metadata": {
  "kernelspec": {
   "display_name": "venv",
   "language": "python",
   "name": "python3"
  },
  "language_info": {
   "codemirror_mode": {
    "name": "ipython",
    "version": 3
   },
   "file_extension": ".py",
   "mimetype": "text/x-python",
   "name": "python",
   "nbconvert_exporter": "python",
   "pygments_lexer": "ipython3",
   "version": "3.12.4"
  }
 },
 "nbformat": 4,
 "nbformat_minor": 2
}
