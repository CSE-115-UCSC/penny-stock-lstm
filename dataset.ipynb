{
 "cells": [
  {
   "cell_type": "markdown",
   "metadata": {
    "id": "view-in-github"
   },
   "source": [
    "<a href=\"https://colab.research.google.com/github/aidanjmaldonado/penny-stock-lstm/blob/main/penny_stock.ipynb\" target=\"_parent\"><img src=\"https://colab.research.google.com/assets/colab-badge.svg\" alt=\"Open In Colab\"/></a>"
   ]
  },
  {
   "cell_type": "code",
   "execution_count": 1,
   "metadata": {
    "id": "AB9VHvt_xNXa"
   },
   "outputs": [],
   "source": [
    "import numpy as np\n",
    "import pandas as pd\n",
    "import sqlite3\n",
    "import requests\n",
    "import sys\n",
    "import pytz\n",
    "\n",
    "from library.DataSetProcessor import DataSetProcessor\n",
    "import matplotlib.pyplot as plt\n",
    "\n",
    "import pickle\n",
    "\n",
    "\n"
   ]
  },
  {
   "cell_type": "code",
   "execution_count": 2,
   "metadata": {},
   "outputs": [],
   "source": [
    "dataSetProcessor = DataSetProcessor()"
   ]
  },
  {
   "cell_type": "code",
   "execution_count": 3,
   "metadata": {},
   "outputs": [
    {
     "name": "stdout",
     "output_type": "stream",
     "text": [
      "SQlite connected with historical.db\n"
     ]
    }
   ],
   "source": [
    "# Connect to SQlite database\n",
    "try:\n",
    "    db = 'historical.db'\n",
    "    sqliteConnection = sqlite3.connect(db)\n",
    "    cursor = sqliteConnection.cursor()\n",
    "    print(f'SQlite connected with {db}')\n",
    "\n",
    "except:\n",
    "    sys.stderr.write(\"Failed to connect to database\")"
   ]
  },
  {
   "cell_type": "markdown",
   "metadata": {
    "id": "SJBjdbHzoWvZ"
   },
   "source": [
    "# Create database"
   ]
  },
  {
   "cell_type": "code",
   "execution_count": 4,
   "metadata": {
    "colab": {
     "base_uri": "https://localhost:8080/"
    },
    "id": "or4POn4Ye_Lw",
    "outputId": "86ef5430-6687-4c6f-ab98-6ebebb07acc7"
   },
   "outputs": [
    {
     "name": "stdout",
     "output_type": "stream",
     "text": [
      "Success querying all historical\n"
     ]
    }
   ],
   "source": [
    "# Query {ticker(s)} from Database\n",
    "try:\n",
    "    query = f\"SELECT * FROM all_historical WHERE ticker != 'GSAT';\"\n",
    "    cursor.execute(query)\n",
    "    if cursor.fetchone() is None:\n",
    "        raise Exception(\"No results\")\n",
    "\n",
    "    print(f\"Success querying all historical\")\n",
    "    # Turn SQlite Database into Pandas Dataframe\n",
    "    data = pd.read_sql_query(query, sqliteConnection)\n",
    "\n",
    "except:\n",
    "    sys.stderr.write(f\"Failed to select all historical\")"
   ]
  },
  {
   "cell_type": "code",
   "execution_count": 5,
   "metadata": {
    "id": "_MxXjzzSQ1b_"
   },
   "outputs": [],
   "source": [
    "# Using the column 'time' (millisecond) add a new column 'dates' with datetime\n",
    "\n",
    "# def addDateAndMinutes(rawData: pd.DataFrame) -> pd.DataFrame:\n",
    "#     data = rawData.copy()\n",
    "#     dates = pd.to_datetime(data['time'], unit='ms')\n",
    "#     dates = dates.dt.tz_localize('UTC').dt.tz_convert('US/Pacific')\n",
    "#     dates = dates.dt.tz_localize(None)\n",
    "#     data[\"date\"] = dates.dt.date\n",
    "#     data[\"timeTime\"] = dates.dt.time\n",
    "#     data[\"timeMinute\"] = dates.dt.hour * 100 + dates.dt.minute\n",
    "#     return data\n",
    "\n",
    "data = dataSetProcessor.addDateAndMinutes(data)"
   ]
  },
  {
   "cell_type": "code",
   "execution_count": 6,
   "metadata": {},
   "outputs": [
    {
     "data": {
      "text/html": [
       "<div>\n",
       "<style scoped>\n",
       "    .dataframe tbody tr th:only-of-type {\n",
       "        vertical-align: middle;\n",
       "    }\n",
       "\n",
       "    .dataframe tbody tr th {\n",
       "        vertical-align: top;\n",
       "    }\n",
       "\n",
       "    .dataframe thead th {\n",
       "        text-align: right;\n",
       "    }\n",
       "</style>\n",
       "<table border=\"1\" class=\"dataframe\">\n",
       "  <thead>\n",
       "    <tr style=\"text-align: right;\">\n",
       "      <th></th>\n",
       "      <th>id</th>\n",
       "      <th>ticker</th>\n",
       "      <th>volume</th>\n",
       "      <th>volume_weighted_average</th>\n",
       "      <th>open</th>\n",
       "      <th>close</th>\n",
       "      <th>high</th>\n",
       "      <th>low</th>\n",
       "      <th>time</th>\n",
       "      <th>number_of_trades</th>\n",
       "      <th>date</th>\n",
       "      <th>timeTime</th>\n",
       "      <th>timeMinute</th>\n",
       "    </tr>\n",
       "  </thead>\n",
       "  <tbody>\n",
       "    <tr>\n",
       "      <th>0</th>\n",
       "      <td>1</td>\n",
       "      <td>ACHR</td>\n",
       "      <td>269.0</td>\n",
       "      <td>3.0307</td>\n",
       "      <td>3.0301</td>\n",
       "      <td>3.030</td>\n",
       "      <td>3.0301</td>\n",
       "      <td>3.0300</td>\n",
       "      <td>1657643400000</td>\n",
       "      <td>4</td>\n",
       "      <td>2022-07-12</td>\n",
       "      <td>09:30:00</td>\n",
       "      <td>930</td>\n",
       "    </tr>\n",
       "    <tr>\n",
       "      <th>1</th>\n",
       "      <td>2</td>\n",
       "      <td>ACHR</td>\n",
       "      <td>2037.0</td>\n",
       "      <td>3.0362</td>\n",
       "      <td>3.0400</td>\n",
       "      <td>3.040</td>\n",
       "      <td>3.0400</td>\n",
       "      <td>3.0350</td>\n",
       "      <td>1657643700000</td>\n",
       "      <td>35</td>\n",
       "      <td>2022-07-12</td>\n",
       "      <td>09:35:00</td>\n",
       "      <td>935</td>\n",
       "    </tr>\n",
       "    <tr>\n",
       "      <th>2</th>\n",
       "      <td>3</td>\n",
       "      <td>ACHR</td>\n",
       "      <td>796.0</td>\n",
       "      <td>3.0364</td>\n",
       "      <td>3.0400</td>\n",
       "      <td>3.035</td>\n",
       "      <td>3.0400</td>\n",
       "      <td>3.0350</td>\n",
       "      <td>1657644000000</td>\n",
       "      <td>17</td>\n",
       "      <td>2022-07-12</td>\n",
       "      <td>09:40:00</td>\n",
       "      <td>940</td>\n",
       "    </tr>\n",
       "    <tr>\n",
       "      <th>3</th>\n",
       "      <td>4</td>\n",
       "      <td>ACHR</td>\n",
       "      <td>1795.0</td>\n",
       "      <td>3.0356</td>\n",
       "      <td>3.0350</td>\n",
       "      <td>3.035</td>\n",
       "      <td>3.0400</td>\n",
       "      <td>3.0350</td>\n",
       "      <td>1657644300000</td>\n",
       "      <td>19</td>\n",
       "      <td>2022-07-12</td>\n",
       "      <td>09:45:00</td>\n",
       "      <td>945</td>\n",
       "    </tr>\n",
       "    <tr>\n",
       "      <th>4</th>\n",
       "      <td>5</td>\n",
       "      <td>ACHR</td>\n",
       "      <td>10397.0</td>\n",
       "      <td>3.0286</td>\n",
       "      <td>3.0350</td>\n",
       "      <td>3.025</td>\n",
       "      <td>3.0350</td>\n",
       "      <td>3.0212</td>\n",
       "      <td>1657644600000</td>\n",
       "      <td>87</td>\n",
       "      <td>2022-07-12</td>\n",
       "      <td>09:50:00</td>\n",
       "      <td>950</td>\n",
       "    </tr>\n",
       "  </tbody>\n",
       "</table>\n",
       "</div>"
      ],
      "text/plain": [
       "   id ticker   volume  volume_weighted_average    open  close    high     low  \\\n",
       "0   1   ACHR    269.0                   3.0307  3.0301  3.030  3.0301  3.0300   \n",
       "1   2   ACHR   2037.0                   3.0362  3.0400  3.040  3.0400  3.0350   \n",
       "2   3   ACHR    796.0                   3.0364  3.0400  3.035  3.0400  3.0350   \n",
       "3   4   ACHR   1795.0                   3.0356  3.0350  3.035  3.0400  3.0350   \n",
       "4   5   ACHR  10397.0                   3.0286  3.0350  3.025  3.0350  3.0212   \n",
       "\n",
       "            time  number_of_trades        date  timeTime  timeMinute  \n",
       "0  1657643400000                 4  2022-07-12  09:30:00         930  \n",
       "1  1657643700000                35  2022-07-12  09:35:00         935  \n",
       "2  1657644000000                17  2022-07-12  09:40:00         940  \n",
       "3  1657644300000                19  2022-07-12  09:45:00         945  \n",
       "4  1657644600000                87  2022-07-12  09:50:00         950  "
      ]
     },
     "execution_count": 6,
     "metadata": {},
     "output_type": "execute_result"
    }
   ],
   "source": [
    "data.head()"
   ]
  },
  {
   "cell_type": "code",
   "execution_count": 7,
   "metadata": {},
   "outputs": [
    {
     "data": {
      "text/plain": [
       "array(['ACHR', 'SOUN', 'BITF', 'PLUG', 'IAG', 'CHPT', 'PSNY', 'BTBT',\n",
       "       'AAU', 'CDAK', 'CIDM', 'QNCX', 'AXXA', 'IVP', 'GTVH', 'RONN',\n",
       "       'QLGN', 'VHAI', 'STSS', 'SMX', 'CBDD', 'SNOA', 'MICS', 'ZAPP',\n",
       "       'MAXN', 'KTRA', 'BENF', 'RMSL', 'XHG', 'NEGG', 'EOSE', 'SIRI'],\n",
       "      dtype=object)"
      ]
     },
     "execution_count": 7,
     "metadata": {},
     "output_type": "execute_result"
    }
   ],
   "source": [
    "data['ticker'].unique()"
   ]
  },
  {
   "cell_type": "code",
   "execution_count": 8,
   "metadata": {},
   "outputs": [],
   "source": [
    "sequences = dataSetProcessor.get5MinSequences(data, scale=True)\n",
    "\n",
    "with open('sequences.pickle', 'wb') as handle:\n",
    "    pickle.dump(sequences, handle, protocol=pickle.HIGHEST_PROTOCOL)"
   ]
  },
  {
   "cell_type": "code",
   "execution_count": 9,
   "metadata": {},
   "outputs": [],
   "source": [
    "# assert len(sequences) == len(data['ticker'].unique())"
   ]
  },
  {
   "cell_type": "code",
   "execution_count": 10,
   "metadata": {},
   "outputs": [
    {
     "data": {
      "text/plain": [
       "26651"
      ]
     },
     "execution_count": 10,
     "metadata": {},
     "output_type": "execute_result"
    }
   ],
   "source": [
    "achrData = data[data['ticker'] == 'ACHR']\n",
    "len(achrData)"
   ]
  },
  {
   "cell_type": "code",
   "execution_count": null,
   "metadata": {},
   "outputs": [],
   "source": [
    "plt.plot(achrData['close'])"
   ]
  },
  {
   "cell_type": "markdown",
   "metadata": {
    "id": "1MRzML9poTXB"
   },
   "source": [
    "# Train on all historical stock data, sequenced"
   ]
  },
  {
   "cell_type": "code",
   "execution_count": null,
   "metadata": {
    "colab": {
     "base_uri": "https://localhost:8080/"
    },
    "id": "ToUrsdh6ki-s",
    "outputId": "1f795df1-a087-4044-d713-4fb25291d731"
   },
   "outputs": [],
   "source": [
    "# Select features to use\n",
    "features = data[['volume', 'volume_weighted_average', 'open', 'close', 'high', 'low']].values\n",
    "\n",
    "# Normalize features\n",
    "scaler = MinMaxScaler(feature_range=(0, 1))\n",
    "scaled_features = scaler.fit_transform(features)\n",
    "\n",
    "def create_sequences(data, sequence_length, prediction_length):\n",
    "    xs, ys = [], []\n",
    "    index = 0\n",
    "    count = 0\n",
    "    while index < len(data) - sequence_length - prediction_length + 1:\n",
    "        # Check if sequence is within a single day\n",
    "        if dates[index].date() == dates[index + sequence_length].date() and tickers[index] == tickers[index + sequence_length]:\n",
    "            # If day == 2024-05-31, print\n",
    "            # if dates[index] == \"2024-05-31\":\n",
    "            # print(\"We got a sequence from\", dates[index], \"to\", dates[index + sequence_length], \"sequence-length is\", (index + sequence_length) -index, tickers[index], tickers[index + sequence_length])\n",
    "            xs.append(data[index:index + sequence_length])\n",
    "            ys.append(data[index + sequence_length:index + sequence_length + prediction_length, 3])\n",
    "            index += sequence_length\n",
    "            count += 1\n",
    "        else:  # Move index to the start of the next day\n",
    "            newindex = index\n",
    "            while dates[newindex].date() == dates[newindex + 1].date():\n",
    "                newindex += 1\n",
    "            newindex += 1\n",
    "            index = newindex\n",
    "    print(\"Valid days:\", count)\n",
    "    return np.array(xs), np.array(ys)\n",
    "\n",
    "# One day sequence lenght\n",
    "sequence_length = 78\n",
    "prediction_length = 78\n",
    "x, y = create_sequences(scaled_features, sequence_length, prediction_length)\n",
    "\n",
    "train_size = int(len(x) * 0.8)\n",
    "x_train, x_test = x[:train_size], x[train_size:]\n",
    "y_train, y_test = y[:train_size], y[train_size:]\n",
    "\n",
    "# Split data into train and test sets\n",
    "train_size = int(len(x) * 0.8)\n",
    "x_train, x_test = x[:train_size], x[train_size:]\n",
    "y_train, y_test = y[:train_size], y[train_size:]\n",
    "\n",
    "print(\"x_train shape:\", x_train.shape)\n",
    "print(\"y_train shape:\", y_train.shape)\n",
    "print(\"x_test shape:\", x_test.shape)\n",
    "print(\"y_test shape:\", y_test.shape)\n",
    "\n",
    "\n",
    "# Build LSTM model\n",
    "model = Sequential()\n",
    "model.add(LSTM(50, return_sequences=True, input_shape=(sequence_length, x_train.shape[2])))\n",
    "model.add(LSTM(50))\n",
    "model.add(Dense(50, activation='relu'))\n",
    "model.add(Dropout(0.2))\n",
    "model.add(Dense(prediction_length))\n",
    "\n",
    "model.compile(optimizer='adam', loss='mse')\n",
    "\n",
    "# Train the model\n",
    "early_stopping = EarlyStopping(monitor='val_loss', patience=10, restore_best_weights=True)\n",
    "model.fit(x_train, y_train, epochs=100, batch_size=32, validation_split=0.1, callbacks=[early_stopping])\n",
    "\n",
    "# Evaluate the model\n",
    "model.evaluate(x_test, y_test)"
   ]
  },
  {
   "cell_type": "markdown",
   "metadata": {
    "id": "_YtkL05SoPGl"
   },
   "source": [
    "# Prediction on unseen 'Real-Time' stock\n"
   ]
  },
  {
   "cell_type": "code",
   "execution_count": null,
   "metadata": {
    "colab": {
     "base_uri": "https://localhost:8080/"
    },
    "id": "gaButDJTSHG5",
    "outputId": "a168c71e-1326-48c6-96cd-12c5344e91ff"
   },
   "outputs": [],
   "source": [
    "# Create Prediction Stock dataset\n",
    "\n",
    "try:\n",
    "  query = f\"SELECT * FROM all_historical WHERE ticker = 'GSAT';\" # *NOTE* Cannot run predictions on EVGN_Predict rn because it has 0 valid days, using GSAT\n",
    "  cursor.execute(query)\n",
    "  if cursor.fetchone() is None:\n",
    "    raise Exception(\"No results\")\n",
    "  print(f\"Success querying EVGN_Predict\")\n",
    "except:\n",
    "  sys.stderr.write(f\"Failed to select EVGN_Predict\")\n",
    "\n",
    "# Turn SQlite Database into Pandas Dataframe\n",
    "predict_data_whole = pd.read_sql_query(query, sqliteConnection)\n",
    "\n",
    "# Split into known vs unknown, where unknown is the last 78 entries\n",
    "split_index_whole = len(predict_data_whole) - 78\n",
    "known_data_whole = predict_data_whole.iloc[:-78]\n",
    "unknown_data_whole = predict_data_whole.iloc[-78:]\n",
    "\n",
    "# Features\n",
    "known_features = known_data_whole[['volume', 'volume_weighted_average', 'open', 'close', 'high', 'low']].values\n",
    "\n",
    "# Normalize features\n",
    "scaler = MinMaxScaler(feature_range=(0, 1))\n",
    "scaled_known_features = scaler.fit_transform(known_features)\n",
    "\n"
   ]
  },
  {
   "cell_type": "code",
   "execution_count": null,
   "metadata": {
    "id": "6ymq09w-TRXL"
   },
   "outputs": [],
   "source": [
    "# Create dates column from miliseconds\n",
    "dates = pd.to_datetime(known_data_whole['time'], unit='ms')\n",
    "tickers = known_data_whole['ticker']\n",
    "dates = dates.dt.tz_localize('UTC').dt.tz_convert('US/Pacific')\n",
    "dates = dates.dt.tz_localize(None)"
   ]
  },
  {
   "cell_type": "code",
   "execution_count": null,
   "metadata": {
    "colab": {
     "base_uri": "https://localhost:8080/"
    },
    "id": "rUHlZ84KSYxX",
    "outputId": "85ed1f4e-9572-4034-950b-767a32823fe7"
   },
   "outputs": [],
   "source": [
    "# Create Prediction Sequences\n",
    "sequence_length = 78\n",
    "prediction_length = 78\n",
    "x_predict, y_predict = create_sequences(scaled_known_features, sequence_length, prediction_length)"
   ]
  },
  {
   "cell_type": "code",
   "execution_count": null,
   "metadata": {
    "colab": {
     "base_uri": "https://localhost:8080/"
    },
    "id": "-WQfWiYxTygC",
    "outputId": "1b72c1df-8cd7-472a-fa0f-03577878da72"
   },
   "outputs": [],
   "source": [
    "# Predict with model\n",
    "predicted_stock_sequence = model.predict(x_predict)\n",
    "\n",
    "# Evaluate the model\n",
    "model.evaluate(x_predict, y_predict)"
   ]
  },
  {
   "cell_type": "code",
   "execution_count": null,
   "metadata": {
    "colab": {
     "base_uri": "https://localhost:8080/",
     "height": 641
    },
    "id": "ZI07GI7IS3_I",
    "outputId": "a8d9f741-574e-42ad-e677-f2b33dc618cb"
   },
   "outputs": [],
   "source": [
    "# Plot results\n",
    "import matplotlib.pyplot as plt\n",
    "\n",
    "# Create the combined index for plotting\n",
    "combined_index = np.arange(len(predict_data_whole))\n",
    "\n",
    "# Create\n",
    "plt.figure(figsize=(14, 7))\n",
    "\n",
    "# Plot\n",
    "plt.plot(combined_index, predict_data_whole['close'], label='Example \"Prediction\" Data', color='black', linewidth=3.0)\n",
    "plt.plot(combined_index[:split_index_whole], known_data_whole['close'], label='\"Known\" Data', color='cyan', linewidth=2.0, linestyle=\"--\")\n",
    "plt.plot(combined_index[split_index_whole:], unknown_data_whole['close'], label='\"Unknown\" Data', color='orange', linewidth=2.0, linestyle=\"--\")\n",
    "plt.plot(combined_index[split_index_whole:], predicted_stock_sequence[1], label='Model Prediction', color='purple', linewidth=2.0, linestyle=\"-\")\n",
    "\n",
    "# Format\n",
    "plt.title('Comparison of Historical, Actual, and Predicted Data')\n",
    "plt.xlabel('Time Steps')\n",
    "plt.ylabel('Stock Price')\n",
    "plt.legend()\n",
    "\n",
    "# Adjust y-axis limits based on the data range\n",
    "# plt.ylim(predict_data_whole.iloc[-200:]['close'].min() - 0.2, predict_data_whole.iloc[-200:]['close'].max() + 0.2)\n",
    "plt.xlim(len(predict_data_whole) - 200, len(predict_data_whole))  # Crop view to just the very end\n",
    "\n",
    "# Set y-tick locations with a step of 0.05\n",
    "# yticks = np.arange(min(predict_data_whole['close']) // 0.05 * 0.05, (max(predict_data_whole['close']) // 0.05 + 1) * 0.05, 0.05)\n",
    "# plt.yticks(yticks)\n",
    "\n",
    "plt.show()\n"
   ]
  }
 ],
 "metadata": {
  "colab": {
   "provenance": []
  },
  "kernelspec": {
   "display_name": "Python 3 (ipykernel)",
   "language": "python",
   "name": "python3"
  },
  "language_info": {
   "codemirror_mode": {
    "name": "ipython",
    "version": 3
   },
   "file_extension": ".py",
   "mimetype": "text/x-python",
   "name": "python",
   "nbconvert_exporter": "python",
   "pygments_lexer": "ipython3",
   "version": "3.8.16"
  }
 },
 "nbformat": 4,
 "nbformat_minor": 4
}
