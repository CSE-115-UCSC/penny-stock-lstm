{
 "cells": [
  {
   "cell_type": "code",
   "execution_count": 1,
   "id": "4d30f134-0578-41ff-b992-337a12cc4ac8",
   "metadata": {
    "scrolled": true
   },
   "outputs": [
    {
     "name": "stdout",
     "output_type": "stream",
     "text": [
      "[INFO][PennyStockData]: mod_historicaldata.db exists\n",
      "[INFO][PennyStockData]: SQlite connected with mod_historicaldata.db\n",
      "[INFO][PennyStockData]: SQlite executed query SELECT ticker_id, ticker, p_date, p_time, volume_weighted_average, open, close, high, low, time/1000 as time, volume, number_of_trades FROM all_historical_modified WHERE ticker_id<>30 ORDER BY ticker_id, p_date, p_time\n",
      "[DEBUG][PennyStockData]: headers: ['ticker_id', 'ticker', 'p_date', 'p_time', 'volume_weighted_average', 'open', 'close', 'high', 'low', 'time', 'volume', 'number_of_trades']\n",
      "[DEBUG][PennyStockData]: len(data): 549499\n",
      "[INFO][PennyStockData]: SQlite executed query SELECT id, ticker FROM tickers WHERE id<>30 ORDER BY id\n",
      "[DEBUG][PennyStockData]: Imputed len(data): 965607\n",
      "[INFO][PennyStockData]: Performing ticker-wise normalization on ['volume_weighted_average']\n",
      "[INFO][PennyStockData]: Performing global normalization on ['volume_weighted_average'] using MixMaxScaler\n"
     ]
    }
   ],
   "source": [
    "from pennystockpipeline.PennyStockData import PennyStockData\n",
    "from pennystockpipeline.PennyStockModeler import PennyStockModeler\n",
    "import numpy as np\n",
    "import pandas as pd\n",
    "from time import gmtime, strftime\n",
    "from datetime import datetime, timedelta\n",
    "\n",
    "## Testing\n",
    "table_name = \"all_historical_modified\"\n",
    "database_name_with_path = \"mod_historicaldata.db\"\n",
    "\n",
    "#columns = ['ticker_id', 'p_date', 'close', 'volume_weighted_average']\n",
    "columns = ['ticker_id', 'p_date', 'p_time', 'volume_weighted_average']\n",
    "columns_to_normalize = ['volume_weighted_average']\n",
    "\n",
    "sequence_length = 36\n",
    "prediction_length = 36\n",
    "\n",
    "#psd = PennyStockData(database_name_with_path, table_name, impute=True, verbose=2).get_columns(columns).normalize(['close', 'volume_weighted_average']).create_sequences(sequence_length, prediction_length)\n",
    "psd = PennyStockData(database_name_with_path, table_name, impute=True, verbose=2).get_columns(columns).normalize(columns_to_normalize).create_sequences(sequence_length, prediction_length)\n"
   ]
  },
  {
   "cell_type": "code",
   "execution_count": 2,
   "id": "53870b96-1b38-4c69-bb65-24fa32360cae",
   "metadata": {
    "scrolled": true
   },
   "outputs": [
    {
     "data": {
      "text/html": [
       "<div>\n",
       "<style scoped>\n",
       "    .dataframe tbody tr th:only-of-type {\n",
       "        vertical-align: middle;\n",
       "    }\n",
       "\n",
       "    .dataframe tbody tr th {\n",
       "        vertical-align: top;\n",
       "    }\n",
       "\n",
       "    .dataframe thead th {\n",
       "        text-align: right;\n",
       "    }\n",
       "</style>\n",
       "<table border=\"1\" class=\"dataframe\">\n",
       "  <thead>\n",
       "    <tr style=\"text-align: right;\">\n",
       "      <th></th>\n",
       "      <th>p_date</th>\n",
       "      <th>p_time</th>\n",
       "      <th>volume_weighted_average</th>\n",
       "    </tr>\n",
       "  </thead>\n",
       "  <tbody>\n",
       "    <tr>\n",
       "      <th>0</th>\n",
       "      <td>2022-07-12</td>\n",
       "      <td>16:30</td>\n",
       "      <td>0.388989</td>\n",
       "    </tr>\n",
       "    <tr>\n",
       "      <th>1</th>\n",
       "      <td>2022-07-12</td>\n",
       "      <td>16:35</td>\n",
       "      <td>0.389697</td>\n",
       "    </tr>\n",
       "    <tr>\n",
       "      <th>2</th>\n",
       "      <td>2022-07-12</td>\n",
       "      <td>16:40</td>\n",
       "      <td>0.389723</td>\n",
       "    </tr>\n",
       "    <tr>\n",
       "      <th>3</th>\n",
       "      <td>2022-07-12</td>\n",
       "      <td>16:45</td>\n",
       "      <td>0.389620</td>\n",
       "    </tr>\n",
       "    <tr>\n",
       "      <th>4</th>\n",
       "      <td>2022-07-12</td>\n",
       "      <td>16:50</td>\n",
       "      <td>0.388719</td>\n",
       "    </tr>\n",
       "  </tbody>\n",
       "</table>\n",
       "</div>"
      ],
      "text/plain": [
       "       p_date p_time  volume_weighted_average\n",
       "0  2022-07-12  16:30                 0.388989\n",
       "1  2022-07-12  16:35                 0.389697\n",
       "2  2022-07-12  16:40                 0.389723\n",
       "3  2022-07-12  16:45                 0.389620\n",
       "4  2022-07-12  16:50                 0.388719"
      ]
     },
     "execution_count": 2,
     "metadata": {},
     "output_type": "execute_result"
    }
   ],
   "source": [
    "df = pd.DataFrame(psd.normalized_data, columns=psd.normalized_headers)\n",
    "df.head()"
   ]
  },
  {
   "cell_type": "code",
   "execution_count": 3,
   "id": "1b5c432d-7b30-409a-8023-ad6a1e1c829a",
   "metadata": {
    "scrolled": true
   },
   "outputs": [
    {
     "name": "stdout",
     "output_type": "stream",
     "text": [
      "PennyStockModeler(\n",
      "  (lstm): LSTM(1, 64, num_layers=2, batch_first=True)\n",
      "  (linear): Linear(in_features=64, out_features=1, bias=True)\n",
      ")\n",
      "x_train.shape: torch.Size([17384, 36, 1]), y_train.shape: torch.Size([17384, 36, 1])\n",
      "x_test.shape: torch.Size([4346, 36, 1]), y_test.shape: torch.Size([4346, 36, 1])\n"
     ]
    }
   ],
   "source": [
    "import torch # Library for implementing Deep Neural Network \n",
    "\n",
    "# Prepare model parameters\n",
    "input_size = len(columns_to_normalize)\n",
    "num_layers = 2\n",
    "hidden_size = 64\n",
    "output_size = len(columns_to_normalize)\n",
    "\n",
    "# Define the model, loss function, and optimizer\n",
    "modeler = PennyStockModeler(input_size, hidden_size, num_layers, device='cuda')\n",
    "modeler = modeler.to(modeler.device)\n",
    "loss_fn = torch.nn.MSELoss(reduction='mean')\n",
    "optimizer = torch.optim.Adam(modeler.parameters(), lr=1e-3)\n",
    "print(modeler)\n",
    "\n",
    "batch_size = 16\n",
    "train_test_split = 0.8\n",
    "# Split data into train and test sets and create dataloaders\n",
    "modeler = modeler.split_dataset(psd, split=train_test_split, to_torch=True).create_dataloaders(batch_size)\n"
   ]
  },
  {
   "cell_type": "code",
   "execution_count": 4,
   "id": "62ff5118-9659-4433-a058-148cad14d762",
   "metadata": {},
   "outputs": [
    {
     "name": "stdout",
     "output_type": "stream",
     "text": [
      "Epoch [10/10] - Training Loss: 0.0006, Test Loss: 0.0007\n"
     ]
    },
    {
     "data": {
      "image/png": "[encoded data removed]",
      "text/plain": [
       "<Figure size 640x480 with 1 Axes>"
      ]
     },
     "metadata": {},
     "output_type": "display_data"
    }
   ],
   "source": [
    "num_epochs = 10\n",
    "# Train the model\n",
    "modeler = modeler.train_model(loss_fn, optimizer, num_epochs = num_epochs).plot_training_test_loss()\n"
   ]
  },
  {
   "cell_type": "code",
   "execution_count": 5,
   "id": "0f68f216-25d8-4052-a924-418f5a248bff",
   "metadata": {},
   "outputs": [],
   "source": [
    "\n",
    "def forecast(modeler, num_forecast_steps):\n",
    "    psd_ds_dates = modeler.psd.ds_dates\n",
    "    psd_ds_dates = [datetime.strptime(d, \"%Y-%m-%d\") for d in psd_ds_dates]\n",
    "    last_date = max(psd_ds_dates)\n",
    "    next_date = last_date + timedelta(days=1)\n",
    "\n",
    "    #next_date = strftime(\"%Y-%m-%d\", gmtime(next_date))\n",
    "    print(type(psd_ds_dates))\n",
    "\n",
    "    [psd_ds_dates.append(next_date) for steps in range(num_forecast_steps)]\n",
    "\n",
    "    print(psd_ds_dates[0], psd_ds_dates[1], psd_ds_dates[-2], psd_ds_dates[-1])\n",
    "\n",
    "    future_times = modeler.psd.ds_times[:num_forecast_steps]\n",
    "    #modeler.psd.ds_times.append(future_times)\n",
    "    \n",
    "    \n",
    "    # Generate the next 36 5-min intervals\n",
    "    #future_dates = pd.date_range(start=pd.to_datetime(next_date, format='%Y-%m-%d'), end=pd.to_datetime(next_date, format='%Y-%m-%d'), periods=num_forecast_steps) # we would get 30 forecasted values in 5 mins interval\n",
    "    #future_times = pd.interval_range(start=pd.to_datetime(start_time, format='%H:%M'), periods=num_forecast_steps, freq='5ME') # we would get 30 forecasted values in 5 mins interval\n",
    "\n",
    "    #df_ds_dates = pd.DataFrame(modeler.psd.ds_dates, columns=['p_date'])\n",
    "    #combined_dates_index = df_ds_dates.index.append(future_dates)\n",
    "    \n",
    "    #df_ds_times = pd.DataFrame(modeler.psd.ds_times, columns=['p_time'])\n",
    "    #combined_times_index = df_ds_times.index.append(future_times)\n",
    "\n",
    "    return\n",
    "\n",
    "    \n",
    "    # Define the number of future time steps to forecast\n",
    "    modeler.num_forecast_steps = num_forecast_steps\n",
    "     \n",
    "    # Convert to NumPy and remove singleton dimensions\n",
    "    if modeler.device == 'cuda':\n",
    "        sequence_to_plot = modeler.x_test.squeeze().cuda().numpy()\n",
    "    else:\n",
    "        sequence_to_plot = modeler.x_test.squeeze().cpu().numpy()\n",
    "     \n",
    "    # Use the last 36 data points as the starting point\n",
    "    historical_data = sequence_to_plot[-1]\n",
    "    print(historical_data.shape)\n",
    "     \n",
    "    # Initialize a list to store the forecasted values\n",
    "    forecasted_values = []\n",
    "     \n",
    "    # Use the trained model to forecast future values\n",
    "    with torch.no_grad():\n",
    "        for _ in range(num_forecast_steps*2):\n",
    "            # Prepare the historical_data tensor\n",
    "            historical_data_tensor = torch.as_tensor(historical_data).view(1, -1, 1).float().to(modeler.device)\n",
    "            # Use the model to predict the next value\n",
    "            if modeler.device == 'cuda':\n",
    "                predicted_value = modeler(historical_data_tensor).cuda().numpy()[0, 0]\n",
    "            else:\n",
    "                predicted_value = modeler(historical_data_tensor).cpu().numpy()[0, 0]\n",
    "     \n",
    "            # Append the predicted value to the forecasted_values list\n",
    "            forecasted_values.append(predicted_value[0])\n",
    "     \n",
    "            # Update the historical_data sequence by removing the oldest value and adding the predicted value\n",
    "            historical_data = np.roll(historical_data, shift=-1)\n",
    "            historical_data[:-1] = predicted_value\n",
    "    \n",
    "    # Generate futute dates\n",
    "    \n",
    "    last_date = max(modeler.psd.ds_dates, key=lambda d: pd.to_datetime(d, format='%Y-%m-%d'))\n",
    "    #last_date = datetime.strptime(last_date, '%Y-%m-%d')\n",
    "    #print(last_date)\n",
    "    #last_date = np.transpose().max()\n",
    "    next_date = pd.to_datetime(last_date, format='%Y-%m-%d') + pd.DateOffset(1)\n",
    "\n",
    "    start_time = \"16:30\"\n",
    "    ft = pd.to_timedelta(np.arange(num_forecast_steps), unit='5min')\n",
    "    print(ft, len(ft))\n",
    "    # Generate the next 36 5-min intervals\n",
    "    future_dates = pd.date_range(start=pd.to_datetime(next_date, format='%Y-%m-%d'), end=pd.to_datetime(next_date, format='%Y-%m-%d'), periods=num_forecast_steps) # we would get 30 forecasted values in 5 mins interval\n",
    "    future_times = pd.interval_range(start=pd.to_datetime(start_time, format='%H:%M'), periods=num_forecast_steps, freq='5ME') # we would get 30 forecasted values in 5 mins interval\n",
    "\n",
    "    df_ds_dates = pd.DataFrame(modeler.psd.ds_dates, columns=['p_date'])\n",
    "    combined_dates_index = df_ds_dates.index.append(future_dates)\n",
    "    \n",
    "    df_ds_times = pd.DataFrame(modeler.psd.ds_times, columns=['p_time'])\n",
    "    combined_times_index = df_ds_times.index.append(future_times)\n",
    "    \n",
    "    # Concatenate the original index with the future dates\n",
    "    modeler.forecasted_values = forecasted_values\n",
    "    modeler.combined_dates_index = combined_dates_index\n",
    "    modeler.combined_times_index = combined_times_index\n",
    "    modeler.sequence_to_plot = sequence_to_plot\n",
    "\n",
    "    print(len(forecasted_values))\n",
    "    print(len(combined_dates_index))\n",
    "    print(len(combined_times_index))\n",
    "    #print(len(future_times))\n",
    "    print(len(sequence_to_plot))\n",
    "    \n",
    "    return modeler\n",
    "\n",
    "\n",
    "\n"
   ]
  },
  {
   "cell_type": "code",
   "execution_count": 6,
   "id": "1483781f-6958-4d4b-ae25-781d8fd2d3f5",
   "metadata": {},
   "outputs": [
    {
     "ename": "TypeError",
     "evalue": "Tuple or struct_time argument required",
     "output_type": "error",
     "traceback": [
      "\u001b[1;31m---------------------------------------------------------------------------\u001b[0m",
      "\u001b[1;31mTypeError\u001b[0m                                 Traceback (most recent call last)",
      "Cell \u001b[1;32mIn[6], line 3\u001b[0m\n\u001b[0;32m      1\u001b[0m o_modeler \u001b[38;5;241m=\u001b[39m modeler\n\u001b[0;32m      2\u001b[0m \u001b[38;5;66;03m#modeler = modeler.forecast(num_forecast_steps = 30)\u001b[39;00m\n\u001b[1;32m----> 3\u001b[0m modeler \u001b[38;5;241m=\u001b[39m \u001b[43mforecast\u001b[49m\u001b[43m(\u001b[49m\u001b[43mmodeler\u001b[49m\u001b[43m,\u001b[49m\u001b[43m \u001b[49m\u001b[43mnum_forecast_steps\u001b[49m\u001b[43m \u001b[49m\u001b[38;5;241;43m=\u001b[39;49m\u001b[43m \u001b[49m\u001b[38;5;241;43m36\u001b[39;49m\u001b[43m)\u001b[49m\n",
      "Cell \u001b[1;32mIn[5], line 9\u001b[0m, in \u001b[0;36mforecast\u001b[1;34m(modeler, num_forecast_steps)\u001b[0m\n\u001b[0;32m      5\u001b[0m next_date \u001b[38;5;241m=\u001b[39m last_date \u001b[38;5;241m+\u001b[39m timedelta(days\u001b[38;5;241m=\u001b[39m\u001b[38;5;241m1\u001b[39m)\n\u001b[0;32m      7\u001b[0m \u001b[38;5;66;03m#next_date = strftime(\"%Y-%m-%d\", gmtime(next_date))\u001b[39;00m\n\u001b[1;32m----> 9\u001b[0m \u001b[43m[\u001b[49m\u001b[43mpsd_ds_dates\u001b[49m\u001b[38;5;241;43m.\u001b[39;49m\u001b[43mappend\u001b[49m\u001b[43m(\u001b[49m\u001b[43mstrftime\u001b[49m\u001b[43m(\u001b[49m\u001b[38;5;124;43m\"\u001b[39;49m\u001b[38;5;124;43m%\u001b[39;49m\u001b[38;5;124;43mY-\u001b[39;49m\u001b[38;5;124;43m%\u001b[39;49m\u001b[38;5;124;43mm-\u001b[39;49m\u001b[38;5;132;43;01m%d\u001b[39;49;00m\u001b[38;5;124;43m\"\u001b[39;49m\u001b[43m,\u001b[49m\u001b[43m \u001b[49m\u001b[43mnext_date\u001b[49m\u001b[43m)\u001b[49m\u001b[43m)\u001b[49m\u001b[43m \u001b[49m\u001b[38;5;28;43;01mfor\u001b[39;49;00m\u001b[43m \u001b[49m\u001b[43msteps\u001b[49m\u001b[43m \u001b[49m\u001b[38;5;129;43;01min\u001b[39;49;00m\u001b[43m \u001b[49m\u001b[38;5;28;43mrange\u001b[39;49m\u001b[43m(\u001b[49m\u001b[43mnum_forecast_steps\u001b[49m\u001b[43m)\u001b[49m\u001b[43m]\u001b[49m\n\u001b[0;32m     11\u001b[0m \u001b[38;5;28mprint\u001b[39m(psd_ds_dates[\u001b[38;5;241m0\u001b[39m], psd_ds_dates[\u001b[38;5;241m1\u001b[39m], psd_ds_dates[\u001b[38;5;241m-\u001b[39m\u001b[38;5;241m2\u001b[39m], psd_ds_dates[\u001b[38;5;241m-\u001b[39m\u001b[38;5;241m1\u001b[39m])\n\u001b[0;32m     13\u001b[0m future_times \u001b[38;5;241m=\u001b[39m modeler\u001b[38;5;241m.\u001b[39mpsd\u001b[38;5;241m.\u001b[39mds_times[:num_forecast_steps]\n",
      "Cell \u001b[1;32mIn[5], line 9\u001b[0m, in \u001b[0;36m<listcomp>\u001b[1;34m(.0)\u001b[0m\n\u001b[0;32m      5\u001b[0m next_date \u001b[38;5;241m=\u001b[39m last_date \u001b[38;5;241m+\u001b[39m timedelta(days\u001b[38;5;241m=\u001b[39m\u001b[38;5;241m1\u001b[39m)\n\u001b[0;32m      7\u001b[0m \u001b[38;5;66;03m#next_date = strftime(\"%Y-%m-%d\", gmtime(next_date))\u001b[39;00m\n\u001b[1;32m----> 9\u001b[0m [psd_ds_dates\u001b[38;5;241m.\u001b[39mappend(\u001b[43mstrftime\u001b[49m\u001b[43m(\u001b[49m\u001b[38;5;124;43m\"\u001b[39;49m\u001b[38;5;124;43m%\u001b[39;49m\u001b[38;5;124;43mY-\u001b[39;49m\u001b[38;5;124;43m%\u001b[39;49m\u001b[38;5;124;43mm-\u001b[39;49m\u001b[38;5;132;43;01m%d\u001b[39;49;00m\u001b[38;5;124;43m\"\u001b[39;49m\u001b[43m,\u001b[49m\u001b[43m \u001b[49m\u001b[43mnext_date\u001b[49m\u001b[43m)\u001b[49m) \u001b[38;5;28;01mfor\u001b[39;00m steps \u001b[38;5;129;01min\u001b[39;00m \u001b[38;5;28mrange\u001b[39m(num_forecast_steps)]\n\u001b[0;32m     11\u001b[0m \u001b[38;5;28mprint\u001b[39m(psd_ds_dates[\u001b[38;5;241m0\u001b[39m], psd_ds_dates[\u001b[38;5;241m1\u001b[39m], psd_ds_dates[\u001b[38;5;241m-\u001b[39m\u001b[38;5;241m2\u001b[39m], psd_ds_dates[\u001b[38;5;241m-\u001b[39m\u001b[38;5;241m1\u001b[39m])\n\u001b[0;32m     13\u001b[0m future_times \u001b[38;5;241m=\u001b[39m modeler\u001b[38;5;241m.\u001b[39mpsd\u001b[38;5;241m.\u001b[39mds_times[:num_forecast_steps]\n",
      "\u001b[1;31mTypeError\u001b[0m: Tuple or struct_time argument required"
     ]
    }
   ],
   "source": [
    "o_modeler = modeler\n",
    "#modeler = modeler.forecast(num_forecast_steps = 30)\n",
    "modeler = forecast(modeler, num_forecast_steps = 36)"
   ]
  },
  {
   "cell_type": "code",
   "execution_count": null,
   "id": "1a950176-7878-4dde-8c8c-faa11e4dd1fc",
   "metadata": {},
   "outputs": [],
   "source": [
    "import matplotlib.pyplot as plt # Visualization \n",
    "import matplotlib.dates as mdates # Formatting dates\n",
    "import seaborn as sns # Visualization\n",
    "from sklearn.preprocessing import MinMaxScaler\n",
    "\n",
    "def plot_forecasting(modeler):\n",
    "    df2 = pd.DataFrame(modeler.psd.normalized_data, columns=modeler.psd.normalized_headers)\n",
    "    test_size = int(df2.shape[0] * (1-train_test_split))\n",
    "    df2_test = df2[:test_size]\n",
    "    #df2 = df2.drop(columns=['volume_weighted_average'])\n",
    "    #df_normed = pd.DataFrame(modeler.psd.data, columns=modeler.psd.headers)\n",
    "    #df2 = df2.join(df_normed, how=\"inner\")\n",
    "    print(df2_test.shape[0])\n",
    "    print(df2_test.tail())\n",
    "    return\n",
    "    \n",
    "    forecasted_values = modeler.forecasted_values\n",
    "    \n",
    "    combined_dates_index = modeler.combined_dates_index\n",
    "    combined_times_index = modeler.combined_times_index\n",
    "    \n",
    "    sequence_to_plot = modeler.sequence_to_plot\n",
    "    \n",
    "    #set the size of the plot \n",
    "    plt.rcParams['figure.figsize'] = [14, 4] \n",
    "    \n",
    "    scaler = modeler.psd.scaler\n",
    "    \n",
    "    #Test data\n",
    "    plt.plot(df2_test['p_time'].index[-72:-36], df2_test['volume_weighted_average'][-72:-36], label = \"test_data\", color = \"b\") \n",
    "    #reverse the scaling transformation\n",
    "    original_cases = scaler.inverse_transform(np.expand_dims(sequence_to_plot[-1], axis=0)).flatten() \n",
    "    \n",
    "    #the historical data used as input for forecasting\n",
    "    plt.plot(df2_test['p_time'].index[-36:], original_cases, label='actual values', color='green') \n",
    "    \n",
    "    #Forecasted Values \n",
    "    #reverse the scaling transformation\n",
    "    forecasted_cases = scaler.inverse_transform(np.expand_dims(forecasted_values, axis=0)).flatten() \n",
    "    # plotting the forecasted values\n",
    "    plt.plot(combined_times_index[-72:], forecasted_cases, label='forecasted values', color='red') \n",
    "    \n",
    "    plt.xlabel('Time Step')\n",
    "    plt.ylabel('Value')\n",
    "    plt.legend()\n",
    "    plt.title('Time Series Forecasting')\n",
    "    plt.grid(True)\n",
    "\n"
   ]
  },
  {
   "cell_type": "code",
   "execution_count": null,
   "id": "4fc61063-5364-43fd-bc70-c1308fef7bce",
   "metadata": {},
   "outputs": [],
   "source": [
    "plot_forecasting(modeler)#, i_sequence_to_plot, i_forecasted_values, i_combined_index)"
   ]
  },
  {
   "cell_type": "code",
   "execution_count": null,
   "id": "67430bf8-60de-4b6c-b9d2-6ea17d37be74",
   "metadata": {},
   "outputs": [],
   "source": []
  }
 ],
 "metadata": {
  "kernelspec": {
   "display_name": "Python 3 (ipykernel)",
   "language": "python",
   "name": "python3"
  },
  "language_info": {
   "codemirror_mode": {
    "name": "ipython",
    "version": 3
   },
   "file_extension": ".py",
   "mimetype": "text/x-python",
   "name": "python",
   "nbconvert_exporter": "python",
   "pygments_lexer": "ipython3",
   "version": "3.11.9"
  }
 },
 "nbformat": 4,
 "nbformat_minor": 5
}
