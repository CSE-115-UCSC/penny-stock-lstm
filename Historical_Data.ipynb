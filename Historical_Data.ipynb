{
  "nbformat": 4,
  "nbformat_minor": 0,
  "metadata": {
    "colab": {
      "provenance": []
    },
    "kernelspec": {
      "name": "python3",
      "display_name": "Python 3"
    },
    "language_info": {
      "name": "python"
    }
  },
  "cells": [
    {
      "cell_type": "code",
      "execution_count": 18,
      "metadata": {
        "id": "78f-5mLBlmqg"
      },
      "outputs": [],
      "source": [
        "# Import necessary packages\n",
        "import pandas as pd\n",
        "import numpy as np\n",
        "import matplotlib.pyplot as plt\n",
        "import sqlite3\n",
        "import os\n",
        "import sys\n",
        "import requests"
      ]
    },
    {
      "cell_type": "code",
      "source": [
        "# Download database from github repository\n",
        "historical_url = \"https://raw.githubusercontent.com/CSE-115-UCSC/penny-stock-lstm/main/historicaldata.db\"\n",
        "scrape_request = requests.get(historical_url)\n",
        "\n",
        "try:\n",
        "  # Contingent on request status\n",
        "  scrape_request = requests.get(historical_url)\n",
        "  scrape_request.raise_for_status()\n",
        "\n",
        "  # Create local database from pull, name 'historicaldata.db'\n",
        "  with open(\"historical.db\", \"wb\") as db_file:\n",
        "    db_file.write(scrape_request.content)\n",
        "\n",
        "  sys.stderr.write(\"Request to download database succeeded\")\n",
        "\n",
        "\n",
        "except:\n",
        "  # Report failed request status\n",
        "  sys.stderr.write(\"Request to download database failed\")\n",
        "\n",
        "\n",
        "\n"
      ],
      "metadata": {
        "colab": {
          "base_uri": "https://localhost:8080/"
        },
        "id": "Nh0HQp5enRGQ",
        "outputId": "6a2fdeb9-761f-47e9-cb75-8e8e62807a3f"
      },
      "execution_count": 19,
      "outputs": [
        {
          "output_type": "stream",
          "name": "stderr",
          "text": [
            "Request to download database succeeded"
          ]
        }
      ]
    },
    {
      "cell_type": "code",
      "source": [
        "# Connect to SQlite database\n",
        "try:\n",
        "  db = 'historical.db'\n",
        "  sqliteConnection = sqlite3.connect(db)\n",
        "  cursor = sqliteConnection.cursor()\n",
        "  print(f'SQlite connected with {db}')\n",
        "\n",
        "except:\n",
        "  sys.stderr.write(\"Failed to connect to database\")"
      ],
      "metadata": {
        "colab": {
          "base_uri": "https://localhost:8080/"
        },
        "id": "CxfdJ6Pqnapi",
        "outputId": "41fb5aa3-20a9-4fd3-b6ef-af86cc7c3f21"
      },
      "execution_count": 20,
      "outputs": [
        {
          "output_type": "stream",
          "name": "stdout",
          "text": [
            "SQlite connected with historical.db\n"
          ]
        }
      ]
    },
    {
      "cell_type": "code",
      "source": [
        "# Test connection query\n",
        "try:\n",
        "  query = \"SELECT COUNT(*) FROM all_historical;\"\n",
        "  cursor.execute(query)\n",
        "  print(cursor.fetchall())\n",
        "\n",
        "except:\n",
        "  sys.stderr.write(\"Failed to execute query\")"
      ],
      "metadata": {
        "colab": {
          "base_uri": "https://localhost:8080/"
        },
        "id": "0TsLPH5ar63I",
        "outputId": "f8ec6f39-786b-4ca5-8f9f-be873253a539"
      },
      "execution_count": 21,
      "outputs": [
        {
          "output_type": "stream",
          "name": "stdout",
          "text": [
            "[(296751,)]\n"
          ]
        }
      ]
    },
    {
      "cell_type": "code",
      "source": [
        "# Test first lines of all_historical table query\n",
        "try:\n",
        "  query = \"SELECT * FROM all_historical LIMIT 5;\"\n",
        "  cursor.execute(query)\n",
        "  print(cursor.fetchall())\n",
        "\n",
        "except:\n",
        "  sys.stderr.write(\"Failed to execute query\")"
      ],
      "metadata": {
        "colab": {
          "base_uri": "https://localhost:8080/"
        },
        "id": "ztFN7Wl1siFy",
        "outputId": "fd5d3b53-4008-41ed-fde6-9b9e187f1f08"
      },
      "execution_count": 22,
      "outputs": [
        {
          "output_type": "stream",
          "name": "stdout",
          "text": [
            "[(1, 'ACHR', 269, 3.0307, 3.0301, 3.03, 3.0301, 3.03, 1657643400000, 4), (2, 'ACHR', 2037, 3.0362, 3.04, 3.04, 3.04, 3.035, 1657643700000, 35), (3, 'ACHR', 796, 3.0364, 3.04, 3.035, 3.04, 3.035, 1657644000000, 17), (4, 'ACHR', 1795, 3.0356, 3.035, 3.035, 3.04, 3.035, 1657644300000, 19), (5, 'ACHR', 10397, 3.0286, 3.035, 3.025, 3.035, 3.0212, 1657644600000, 87)]\n"
          ]
        }
      ]
    },
    {
      "cell_type": "code",
      "source": [
        "# Showcase of every unique stock ticker in all_historical\n",
        "try:\n",
        "  query = \"SELECT DISTINCT ticker FROM all_historical;\"\n",
        "  cursor.execute(query)\n",
        "  print(cursor.fetchall())\n",
        "\n",
        "except:\n",
        "  sys.stderr.write(\"Failed to execute query\")"
      ],
      "metadata": {
        "colab": {
          "base_uri": "https://localhost:8080/"
        },
        "id": "_RQScze0s55h",
        "outputId": "d4c4ad26-3ade-4845-f0e1-4f4e218f054b"
      },
      "execution_count": 23,
      "outputs": [
        {
          "output_type": "stream",
          "name": "stdout",
          "text": [
            "[('ACHR',), ('SOUN',), ('BITF',), ('GSAT',), ('PLUG',), ('IAG',), ('CHPT',), ('PSNY',), ('BTBT',), ('AAU',), ('CDAK',), ('CIDM',), ('QNCX',)]\n"
          ]
        }
      ]
    },
    {
      "cell_type": "code",
      "source": [
        "# Test print number of stock entries of \"Plug\" within all_historical table\n",
        "try:\n",
        "  query = \"SELECT COUNT(*) FROM all_historical WHERE ticker = 'PLUG';\"\n",
        "  cursor.execute(query)\n",
        "  print(cursor.fetchall())\n",
        "\n",
        "except:\n",
        "  sys.stderr.write(\"Failed to execute query\")"
      ],
      "metadata": {
        "colab": {
          "base_uri": "https://localhost:8080/"
        },
        "id": "beLZObaXst-z",
        "outputId": "3a2144f7-6c75-495c-be7c-5ceb88f72625"
      },
      "execution_count": 24,
      "outputs": [
        {
          "output_type": "stream",
          "name": "stdout",
          "text": [
            "[(35016,)]\n"
          ]
        }
      ]
    }
  ]
}