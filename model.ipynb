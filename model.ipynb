{
  "cells": [
    {
      "cell_type": "markdown",
      "metadata": {
        "id": "view-in-github"
      },
      "source": [
        "<a href=\"https://colab.research.google.com/github/aidanjmaldonado/penny-stock-lstm/blob/main/penny_stock.ipynb\" target=\"_parent\"><img src=\"https://colab.research.google.com/assets/colab-badge.svg\" alt=\"Open In Colab\"/></a>"
      ]
    },
    {
      "cell_type": "code",
      "execution_count": 700,
      "metadata": {
        "id": "AB9VHvt_xNXa"
      },
      "outputs": [],
      "source": [
        "import numpy as np\n",
        "import pandas as pd\n",
        "from sklearn.preprocessing import MinMaxScaler\n",
        "from keras.models import Sequential\n",
        "from keras.layers import LSTM, Dense, Dropout\n",
        "from keras.callbacks import EarlyStopping\n",
        "import sqlite3\n",
        "import requests\n",
        "import sys\n",
        "import pytz\n",
        "\n",
        "from library.DataSetProcessor import DataSetProcessor\n",
        "import matplotlib.pyplot as plt\n",
        "\n",
        "import pickle\n",
        "\n",
        "\n",
        "\n",
        "\n",
        "\n"
      ]
    },
    {
      "cell_type": "markdown",
      "metadata": {
        "id": "SJBjdbHzoWvZ"
      },
      "source": [
        "# Create database"
      ]
    },
    {
      "cell_type": "code",
      "execution_count": 701,
      "metadata": {
        "colab": {
          "base_uri": "https://localhost:8080/"
        },
        "id": "9DGRIE9XnRw8",
        "outputId": "c53b5aec-8331-490b-b5b8-37e403b087c0"
      },
      "outputs": [
        {
          "name": "stdout",
          "output_type": "stream",
          "text": [
            "Request to download database succeeded\n"
          ]
        }
      ],
      "source": [
        "# Download database from github repository\n",
        "# historical_url = \"https://raw.githubusercontent.com/CSE-115-UCSC/penny-stock-lstm/main/historicaldata.db\"\n",
        "# scrape_request = requests.get(historical_url)\n",
        "\n",
        "try:\n",
        "  # Contingent on request status\n",
        "  # scrape_request = requests.get(historical_url)\n",
        "  # scrape_request.raise_for_status()\n",
        "\n",
        "  # Create local database from pull, name 'historicaldata.db'\n",
        "  with open(\"historical.db\", \"wb\") as db_file:\n",
        "    db_file.write(scrape_request.content)\n",
        "\n",
        "  print(\"Request to download database succeeded\")\n",
        "\n",
        "\n",
        "except:\n",
        "  # Report failed request status\n",
        "  sys.stderr.write(\"Request to download database failed\")"
      ]
    },
    {
      "cell_type": "code",
      "execution_count": 702,
      "metadata": {},
      "outputs": [],
      "source": [
        "dataSetProcessor = DataSetProcessor()"
      ]
    },
    {
      "cell_type": "code",
      "execution_count": 703,
      "metadata": {
        "colab": {
          "base_uri": "https://localhost:8080/"
        },
        "id": "KApKP8mve16y",
        "outputId": "eac13848-bd1a-4869-8752-8d266eaab896"
      },
      "outputs": [
        {
          "name": "stdout",
          "output_type": "stream",
          "text": [
            "SQlite connected with historical.db\n"
          ]
        }
      ],
      "source": [
        "# Connect to SQlite database\n",
        "try:\n",
        "    db = 'historical.db'\n",
        "    sqliteConnection = sqlite3.connect(db)\n",
        "    cursor = sqliteConnection.cursor()\n",
        "    print(f'SQlite connected with {db}')\n",
        "\n",
        "except:\n",
        "    sys.stderr.write(\"Failed to connect to database\")"
      ]
    },
    {
      "cell_type": "code",
      "execution_count": 704,
      "metadata": {
        "colab": {
          "base_uri": "https://localhost:8080/"
        },
        "id": "or4POn4Ye_Lw",
        "outputId": "a222f695-d83c-4f79-bc32-348cb0749353"
      },
      "outputs": [
        {
          "name": "stderr",
          "output_type": "stream",
          "text": [
            "Failed to select all historical"
          ]
        }
      ],
      "source": [
        "# Query {ticker(s)} from Database\n",
        "try:\n",
        "    query = f\"SELECT * all_historical;\"\n",
        "    cursor.execute(query)\n",
        "    if cursor.fetchone() is None:\n",
        "        raise Exception(\"No results\")\n",
        "\n",
        "    print(f\"Success querying all historical\")\n",
        "    # Turn SQlite Database into Pandas Dataframe\n",
        "    data = pd.read_sql_query(query, sqliteConnection)\n",
        "\n",
        "except:\n",
        "    sys.stderr.write(f\"Failed to select all historical\")"
      ]
    },
    {
      "cell_type": "code",
      "execution_count": 705,
      "metadata": {
        "id": "_MxXjzzSQ1b_"
      },
      "outputs": [],
      "source": [
        "# # Using the column 'time' (millisecond) add a new column 'dates' with datetime\n",
        "dates = pd.to_datetime(data['time'], unit='ms')\n",
        "tickers = data['ticker']\n",
        "dates = dates.dt.tz_localize('UTC').dt.tz_convert('US/Pacific')\n",
        "dates = dates.dt.tz_localize(None)\n",
        "data = dataSetProcessor.addDateAndMinutes(data)"
      ]
    },
    {
      "cell_type": "code",
      "execution_count": 706,
      "metadata": {
        "colab": {
          "base_uri": "https://localhost:8080/",
          "height": 206
        },
        "id": "Zf9bAzx-KUzW",
        "outputId": "4260f77b-182c-4520-dc71-912c7df3bd23"
      },
      "outputs": [
        {
          "data": {
            "text/html": [
              "<div>\n",
              "<style scoped>\n",
              "    .dataframe tbody tr th:only-of-type {\n",
              "        vertical-align: middle;\n",
              "    }\n",
              "\n",
              "    .dataframe tbody tr th {\n",
              "        vertical-align: top;\n",
              "    }\n",
              "\n",
              "    .dataframe thead th {\n",
              "        text-align: right;\n",
              "    }\n",
              "</style>\n",
              "<table border=\"1\" class=\"dataframe\">\n",
              "  <thead>\n",
              "    <tr style=\"text-align: right;\">\n",
              "      <th></th>\n",
              "      <th>id</th>\n",
              "      <th>ticker</th>\n",
              "      <th>volume</th>\n",
              "      <th>volume_weighted_average</th>\n",
              "      <th>open</th>\n",
              "      <th>close</th>\n",
              "      <th>high</th>\n",
              "      <th>low</th>\n",
              "      <th>time</th>\n",
              "      <th>number_of_trades</th>\n",
              "      <th>date</th>\n",
              "      <th>timeTime</th>\n",
              "      <th>timeMinute</th>\n",
              "    </tr>\n",
              "  </thead>\n",
              "  <tbody>\n",
              "    <tr>\n",
              "      <th>0</th>\n",
              "      <td>1</td>\n",
              "      <td>ACHR</td>\n",
              "      <td>269.0</td>\n",
              "      <td>3.0307</td>\n",
              "      <td>3.0301</td>\n",
              "      <td>3.030</td>\n",
              "      <td>3.0301</td>\n",
              "      <td>3.0300</td>\n",
              "      <td>1657643400000</td>\n",
              "      <td>4</td>\n",
              "      <td>2022-07-12</td>\n",
              "      <td>09:30:00</td>\n",
              "      <td>930</td>\n",
              "    </tr>\n",
              "    <tr>\n",
              "      <th>1</th>\n",
              "      <td>2</td>\n",
              "      <td>ACHR</td>\n",
              "      <td>2037.0</td>\n",
              "      <td>3.0362</td>\n",
              "      <td>3.0400</td>\n",
              "      <td>3.040</td>\n",
              "      <td>3.0400</td>\n",
              "      <td>3.0350</td>\n",
              "      <td>1657643700000</td>\n",
              "      <td>35</td>\n",
              "      <td>2022-07-12</td>\n",
              "      <td>09:35:00</td>\n",
              "      <td>935</td>\n",
              "    </tr>\n",
              "    <tr>\n",
              "      <th>2</th>\n",
              "      <td>3</td>\n",
              "      <td>ACHR</td>\n",
              "      <td>796.0</td>\n",
              "      <td>3.0364</td>\n",
              "      <td>3.0400</td>\n",
              "      <td>3.035</td>\n",
              "      <td>3.0400</td>\n",
              "      <td>3.0350</td>\n",
              "      <td>1657644000000</td>\n",
              "      <td>17</td>\n",
              "      <td>2022-07-12</td>\n",
              "      <td>09:40:00</td>\n",
              "      <td>940</td>\n",
              "    </tr>\n",
              "    <tr>\n",
              "      <th>3</th>\n",
              "      <td>4</td>\n",
              "      <td>ACHR</td>\n",
              "      <td>1795.0</td>\n",
              "      <td>3.0356</td>\n",
              "      <td>3.0350</td>\n",
              "      <td>3.035</td>\n",
              "      <td>3.0400</td>\n",
              "      <td>3.0350</td>\n",
              "      <td>1657644300000</td>\n",
              "      <td>19</td>\n",
              "      <td>2022-07-12</td>\n",
              "      <td>09:45:00</td>\n",
              "      <td>945</td>\n",
              "    </tr>\n",
              "    <tr>\n",
              "      <th>4</th>\n",
              "      <td>5</td>\n",
              "      <td>ACHR</td>\n",
              "      <td>10397.0</td>\n",
              "      <td>3.0286</td>\n",
              "      <td>3.0350</td>\n",
              "      <td>3.025</td>\n",
              "      <td>3.0350</td>\n",
              "      <td>3.0212</td>\n",
              "      <td>1657644600000</td>\n",
              "      <td>87</td>\n",
              "      <td>2022-07-12</td>\n",
              "      <td>09:50:00</td>\n",
              "      <td>950</td>\n",
              "    </tr>\n",
              "  </tbody>\n",
              "</table>\n",
              "</div>"
            ],
            "text/plain": [
              "   id ticker   volume  volume_weighted_average    open  close    high     low  \\\n",
              "0   1   ACHR    269.0                   3.0307  3.0301  3.030  3.0301  3.0300   \n",
              "1   2   ACHR   2037.0                   3.0362  3.0400  3.040  3.0400  3.0350   \n",
              "2   3   ACHR    796.0                   3.0364  3.0400  3.035  3.0400  3.0350   \n",
              "3   4   ACHR   1795.0                   3.0356  3.0350  3.035  3.0400  3.0350   \n",
              "4   5   ACHR  10397.0                   3.0286  3.0350  3.025  3.0350  3.0212   \n",
              "\n",
              "            time  number_of_trades        date  timeTime  timeMinute  \n",
              "0  1657643400000                 4  2022-07-12  09:30:00         930  \n",
              "1  1657643700000                35  2022-07-12  09:35:00         935  \n",
              "2  1657644000000                17  2022-07-12  09:40:00         940  \n",
              "3  1657644300000                19  2022-07-12  09:45:00         945  \n",
              "4  1657644600000                87  2022-07-12  09:50:00         950  "
            ]
          },
          "execution_count": 706,
          "metadata": {},
          "output_type": "execute_result"
        }
      ],
      "source": [
        "data.head()"
      ]
    },
    {
      "cell_type": "code",
      "execution_count": 707,
      "metadata": {
        "id": "Wd80WVNOLMOq"
      },
      "outputs": [],
      "source": [
        "# # Scale *For every ticker separately to (0, 1)\n",
        "# data['closeNorm'] = data['close'] /  data['close'].max()"
      ]
    },
    {
      "cell_type": "code",
      "execution_count": 708,
      "metadata": {
        "colab": {
          "base_uri": "https://localhost:8080/",
          "height": 1000
        },
        "id": "kJnyy9X9KKnA",
        "outputId": "16735658-8318-474e-b2e8-683d7c166aef"
      },
      "outputs": [],
      "source": [
        "# # Begin plotting\n",
        "# import matplotlib.pyplot as plt\n",
        "# plt.figure()\n",
        "\n",
        "# # 10 different tickers\n",
        "# for ticker in tickers.unique():\n",
        "#     plt.plot(dates[tickers == ticker], data[data['ticker'] == ticker]['closeNorm'], label=ticker)\n",
        "#     plt.label = ticker\n",
        "#     plt.legend()\n",
        "#     plt.show()"
      ]
    },
    {
      "cell_type": "markdown",
      "metadata": {},
      "source": [
        "# Dataset Normalization"
      ]
    },
    {
      "cell_type": "code",
      "execution_count": 709,
      "metadata": {},
      "outputs": [],
      "source": [
        "# achrData = data[data['ticker'] == 'ACHR']\n",
        "# len(achrData)\n",
        "# plt.plot(achrData['close'] / achrData['close'].max())"
      ]
    },
    {
      "cell_type": "code",
      "execution_count": 710,
      "metadata": {},
      "outputs": [],
      "source": [
        "normalized_data = pd.DataFrame(columns=['close', 'time', 'volume'])"
      ]
    },
    {
      "cell_type": "code",
      "execution_count": 711,
      "metadata": {},
      "outputs": [],
      "source": [
        "dataByTicker = {}\n",
        "for ticker in data['ticker'].unique():\n",
        "    dataByTicker[ticker] = data[data['ticker'] == ticker].copy()\n",
        "    dataByTicker[ticker]['closeNorm'] = dataByTicker[ticker]['close'] / dataByTicker[ticker]['close'].max()\n",
        "    dataByTicker[ticker]['volumeNorm'] = dataByTicker[ticker]['volume'] / dataByTicker[ticker]['volume'].max()"
      ]
    },
    {
      "cell_type": "code",
      "execution_count": 712,
      "metadata": {},
      "outputs": [
        {
          "name": "stderr",
          "output_type": "stream",
          "text": [
            "/var/folders/s4/t5945xms4x52fkpsd0m4v9340000gn/T/ipykernel_77387/273319749.py:11: FutureWarning: The behavior of DataFrame concatenation with empty or all-NA entries is deprecated. In a future version, this will no longer exclude empty or all-NA columns when determining the result dtypes. To retain the old behavior, exclude the relevant entries before the concat operation.\n",
            "  normalized_data = pd.concat([normalized_data, temp_df], ignore_index=True)\n"
          ]
        }
      ],
      "source": [
        "for key in dataByTicker:\n",
        "    # Create a temporary DataFrame to hold the current data\n",
        "    temp_df = pd.DataFrame({\n",
        "        'close': dataByTicker[key]['closeNorm'],\n",
        "        # 'ticker': dataByTicker[key]['ticker'],\n",
        "        'volume': dataByTicker[key]['volumeNorm'],\n",
        "        'time': dataByTicker[key]['time']\n",
        "    })\n",
        "    \n",
        "    # Concatenate the temporary DataFrame to the normalized_data DataFrame\n",
        "    normalized_data = pd.concat([normalized_data, temp_df], ignore_index=True)\n",
        "\n",
        "# Optionally, you can reset the index if needed\n",
        "normalized_data.reset_index(drop=True, inplace=True)"
      ]
    },
    {
      "cell_type": "code",
      "execution_count": 713,
      "metadata": {},
      "outputs": [
        {
          "data": {
            "text/html": [
              "<div>\n",
              "<style scoped>\n",
              "    .dataframe tbody tr th:only-of-type {\n",
              "        vertical-align: middle;\n",
              "    }\n",
              "\n",
              "    .dataframe tbody tr th {\n",
              "        vertical-align: top;\n",
              "    }\n",
              "\n",
              "    .dataframe thead th {\n",
              "        text-align: right;\n",
              "    }\n",
              "</style>\n",
              "<table border=\"1\" class=\"dataframe\">\n",
              "  <thead>\n",
              "    <tr style=\"text-align: right;\">\n",
              "      <th></th>\n",
              "      <th>close</th>\n",
              "      <th>time</th>\n",
              "      <th>volume</th>\n",
              "    </tr>\n",
              "  </thead>\n",
              "  <tbody>\n",
              "    <tr>\n",
              "      <th>0</th>\n",
              "      <td>0.383059</td>\n",
              "      <td>1657643400000</td>\n",
              "      <td>0.000090</td>\n",
              "    </tr>\n",
              "    <tr>\n",
              "      <th>1</th>\n",
              "      <td>0.384324</td>\n",
              "      <td>1657643700000</td>\n",
              "      <td>0.000678</td>\n",
              "    </tr>\n",
              "    <tr>\n",
              "      <th>2</th>\n",
              "      <td>0.383692</td>\n",
              "      <td>1657644000000</td>\n",
              "      <td>0.000265</td>\n",
              "    </tr>\n",
              "    <tr>\n",
              "      <th>3</th>\n",
              "      <td>0.383692</td>\n",
              "      <td>1657644300000</td>\n",
              "      <td>0.000598</td>\n",
              "    </tr>\n",
              "    <tr>\n",
              "      <th>4</th>\n",
              "      <td>0.382427</td>\n",
              "      <td>1657644600000</td>\n",
              "      <td>0.003461</td>\n",
              "    </tr>\n",
              "  </tbody>\n",
              "</table>\n",
              "</div>"
            ],
            "text/plain": [
              "      close           time    volume\n",
              "0  0.383059  1657643400000  0.000090\n",
              "1  0.384324  1657643700000  0.000678\n",
              "2  0.383692  1657644000000  0.000265\n",
              "3  0.383692  1657644300000  0.000598\n",
              "4  0.382427  1657644600000  0.003461"
            ]
          },
          "execution_count": 713,
          "metadata": {},
          "output_type": "execute_result"
        }
      ],
      "source": [
        "normalized_data.head()"
      ]
    },
    {
      "cell_type": "code",
      "execution_count": 714,
      "metadata": {},
      "outputs": [],
      "source": [
        "# for ticker in data['ticker'].unique():\n",
        "#     tickerD = dataByTicker[ticker]\n",
        "#     plt.plot(tickerD['closeNorm'])\n",
        "#     plt.plot(tickerD['volumeNorm'])\n",
        "#     plt.title(ticker)\n",
        "#     plt.show()"
      ]
    },
    {
      "cell_type": "markdown",
      "metadata": {
        "id": "1MRzML9poTXB"
      },
      "source": [
        "# Train on all historical stock data, sequenced"
      ]
    },
    {
      "cell_type": "code",
      "execution_count": 715,
      "metadata": {
        "colab": {
          "base_uri": "https://localhost:8080/"
        },
        "id": "ToUrsdh6ki-s",
        "outputId": "9d50990f-8603-4c63-eb66-d56d2a54b4b5"
      },
      "outputs": [
        {
          "name": "stdout",
          "output_type": "stream",
          "text": [
            "Valid days: 294\n",
            "x_train shape: (235, 78, 3)\n",
            "y_train shape: (235, 78)\n",
            "x_test shape: (59, 78, 3)\n",
            "y_test shape: (59, 78)\n",
            "Epoch 1/100\n"
          ]
        },
        {
          "name": "stderr",
          "output_type": "stream",
          "text": [
            "/Users/aidanmaldonado/Documents/PennyStock/Website/stock-prediction/.venv/lib/python3.9/site-packages/keras/src/layers/rnn/rnn.py:204: UserWarning: Do not pass an `input_shape`/`input_dim` argument to a layer. When using Sequential models, prefer using an `Input(shape)` object as the first layer in the model instead.\n",
            "  super().__init__(**kwargs)\n"
          ]
        },
        {
          "name": "stdout",
          "output_type": "stream",
          "text": [
            "\u001b[1m7/7\u001b[0m \u001b[32m━━━━━━━━━━━━━━━━━━━━\u001b[0m\u001b[37m\u001b[0m \u001b[1m2s\u001b[0m 63ms/step - loss: 0.1776 - val_loss: 0.0331\n",
            "Epoch 2/100\n",
            "\u001b[1m7/7\u001b[0m \u001b[32m━━━━━━━━━━━━━━━━━━━━\u001b[0m\u001b[37m\u001b[0m \u001b[1m0s\u001b[0m 30ms/step - loss: 0.1624 - val_loss: 0.0313\n",
            "Epoch 3/100\n",
            "\u001b[1m7/7\u001b[0m \u001b[32m━━━━━━━━━━━━━━━━━━━━\u001b[0m\u001b[37m\u001b[0m \u001b[1m0s\u001b[0m 28ms/step - loss: 0.1552 - val_loss: 0.0293\n",
            "Epoch 4/100\n",
            "\u001b[1m7/7\u001b[0m \u001b[32m━━━━━━━━━━━━━━━━━━━━\u001b[0m\u001b[37m\u001b[0m \u001b[1m0s\u001b[0m 35ms/step - loss: 0.1286 - val_loss: 0.0278\n",
            "Epoch 5/100\n",
            "\u001b[1m7/7\u001b[0m \u001b[32m━━━━━━━━━━━━━━━━━━━━\u001b[0m\u001b[37m\u001b[0m \u001b[1m0s\u001b[0m 30ms/step - loss: 0.1117 - val_loss: 0.0243\n",
            "Epoch 6/100\n",
            "\u001b[1m7/7\u001b[0m \u001b[32m━━━━━━━━━━━━━━━━━━━━\u001b[0m\u001b[37m\u001b[0m \u001b[1m0s\u001b[0m 28ms/step - loss: 0.1061 - val_loss: 0.0337\n",
            "Epoch 7/100\n",
            "\u001b[1m7/7\u001b[0m \u001b[32m━━━━━━━━━━━━━━━━━━━━\u001b[0m\u001b[37m\u001b[0m \u001b[1m0s\u001b[0m 28ms/step - loss: 0.0964 - val_loss: 0.0294\n",
            "Epoch 8/100\n",
            "\u001b[1m7/7\u001b[0m \u001b[32m━━━━━━━━━━━━━━━━━━━━\u001b[0m\u001b[37m\u001b[0m \u001b[1m0s\u001b[0m 28ms/step - loss: 0.0888 - val_loss: 0.0308\n",
            "Epoch 9/100\n",
            "\u001b[1m7/7\u001b[0m \u001b[32m━━━━━━━━━━━━━━━━━━━━\u001b[0m\u001b[37m\u001b[0m \u001b[1m0s\u001b[0m 28ms/step - loss: 0.0927 - val_loss: 0.0318\n",
            "Epoch 10/100\n",
            "\u001b[1m7/7\u001b[0m \u001b[32m━━━━━━━━━━━━━━━━━━━━\u001b[0m\u001b[37m\u001b[0m \u001b[1m0s\u001b[0m 28ms/step - loss: 0.0844 - val_loss: 0.0312\n",
            "Epoch 11/100\n",
            "\u001b[1m7/7\u001b[0m \u001b[32m━━━━━━━━━━━━━━━━━━━━\u001b[0m\u001b[37m\u001b[0m \u001b[1m0s\u001b[0m 27ms/step - loss: 0.0863 - val_loss: 0.0328\n",
            "Epoch 12/100\n",
            "\u001b[1m7/7\u001b[0m \u001b[32m━━━━━━━━━━━━━━━━━━━━\u001b[0m\u001b[37m\u001b[0m \u001b[1m0s\u001b[0m 27ms/step - loss: 0.0743 - val_loss: 0.0376\n",
            "Epoch 13/100\n",
            "\u001b[1m7/7\u001b[0m \u001b[32m━━━━━━━━━━━━━━━━━━━━\u001b[0m\u001b[37m\u001b[0m \u001b[1m0s\u001b[0m 28ms/step - loss: 0.0703 - val_loss: 0.0362\n",
            "Epoch 14/100\n",
            "\u001b[1m7/7\u001b[0m \u001b[32m━━━━━━━━━━━━━━━━━━━━\u001b[0m\u001b[37m\u001b[0m \u001b[1m0s\u001b[0m 33ms/step - loss: 0.0770 - val_loss: 0.0365\n",
            "Epoch 15/100\n",
            "\u001b[1m7/7\u001b[0m \u001b[32m━━━━━━━━━━━━━━━━━━━━\u001b[0m\u001b[37m\u001b[0m \u001b[1m0s\u001b[0m 29ms/step - loss: 0.0732 - val_loss: 0.0396\n"
          ]
        },
        {
          "data": {
            "text/plain": [
              "<keras.src.callbacks.history.History at 0x3f5140310>"
            ]
          },
          "execution_count": 715,
          "metadata": {},
          "output_type": "execute_result"
        }
      ],
      "source": [
        "# Select features to use\n",
        "# features = data[['volume', 'volume_weighted_average', 'open', 'close', 'high', 'low']].values\n",
        "\n",
        "# Normalize features\n",
        "# scaler = MinMaxScaler(feature_range=(0, 1))\n",
        "# scaled_features = scaler.fit_transform(features)\n",
        "\n",
        "def create_sequences(data, sequence_length, prediction_length):\n",
        "    xs, ys = [], []\n",
        "    index = 0\n",
        "    count = 0\n",
        "    while index < len(data) - sequence_length - prediction_length + 1:\n",
        "        # Check if sequence is within a single day\n",
        "        if dates[index].date() == dates[index + sequence_length].date() and tickers[index] == tickers[index + sequence_length]:\n",
        "            # If day == 2024-05-31, print\n",
        "            # if dates[index] == \"2024-05-31\":\n",
        "            # print(\"We got a sequence from\", dates[index], \"to\", dates[index + sequence_length], \"sequence-length is\", (index + sequence_length) -index, tickers[index], tickers[index + sequence_length])\n",
        "            xs.append(data.iloc[index:index + sequence_length])  # Use past data for features\n",
        "            ys.append(data.iloc[index + sequence_length:index + sequence_length + prediction_length, 0])  # Only predict 'close' prices\n",
        "            index += sequence_length\n",
        "            count += 1\n",
        "        else:  # Move index to the start of the next day\n",
        "            newindex = index\n",
        "            while dates[newindex].date() == dates[newindex + 1].date():\n",
        "                newindex += 1\n",
        "            newindex += 1\n",
        "            index = newindex\n",
        "    print(\"Valid days:\", count)\n",
        "    return np.array(xs), np.array(ys)\n",
        "\n",
        "# One day sequence lenght\n",
        "sequence_length = 78\n",
        "prediction_length = 78\n",
        "x, y = create_sequences(normalized_data, sequence_length, prediction_length)\n",
        "\n",
        "train_size = int(len(x) * 0.8)\n",
        "x_train, x_test = x[:train_size], x[train_size:]\n",
        "y_train, y_test = y[:train_size], y[train_size:]\n",
        "\n",
        "# Split data into train and test sets\n",
        "train_size = int(len(x) * 0.8)\n",
        "x_train, x_test = x[:train_size], x[train_size:]\n",
        "y_train, y_test = y[:train_size], y[train_size:]\n",
        "\n",
        "print(\"x_train shape:\", x_train.shape)\n",
        "print(\"y_train shape:\", y_train.shape)\n",
        "print(\"x_test shape:\", x_test.shape)\n",
        "print(\"y_test shape:\", y_test.shape)\n",
        "\n",
        "# Type adjustment\n",
        "x_train = x_train.astype(np.float32)\n",
        "y_train = y_train.astype(np.float32)\n",
        "\n",
        "# Build LSTM model\n",
        "model = Sequential()\n",
        "model.add(LSTM(50, return_sequences=True, input_shape=(sequence_length, x_train.shape[2])))\n",
        "model.add(LSTM(50))\n",
        "model.add(Dense(50, activation='relu'))\n",
        "model.add(Dropout(0.4))\n",
        "model.add(Dense(prediction_length))\n",
        "\n",
        "model.compile(optimizer='adam', loss='mse')\n",
        "\n",
        "# Train the model\n",
        "early_stopping = EarlyStopping(monitor='val_loss', patience=10, restore_best_weights=True)\n",
        "model.fit(x_train, y_train, epochs=100, batch_size=32, validation_split=0.1, callbacks=[early_stopping])\n",
        "\n",
        "# Evaluate the model\n",
        "# model.evaluate(x_test, y_test)"
      ]
    },
    {
      "cell_type": "code",
      "execution_count": 716,
      "metadata": {},
      "outputs": [
        {
          "name": "stderr",
          "output_type": "stream",
          "text": [
            "WARNING:absl:You are saving your model as an HDF5 file via `model.save()` or `keras.saving.save_model(model)`. This file format is considered legacy. We recommend using instead the native Keras format, e.g. `model.save('my_model.keras')` or `keras.saving.save_model(model, 'my_model.keras')`. \n"
          ]
        }
      ],
      "source": [
        "model.save('model.h5')"
      ]
    },
    {
      "cell_type": "markdown",
      "metadata": {
        "id": "_YtkL05SoPGl"
      },
      "source": [
        "# Prediction on unseen 'Real-Time' stock\n"
      ]
    },
    {
      "cell_type": "code",
      "execution_count": 729,
      "metadata": {
        "colab": {
          "base_uri": "https://localhost:8080/"
        },
        "id": "gaButDJTSHG5",
        "outputId": "c0b727b9-71d4-446b-a5b4-5e7b2709b4c4"
      },
      "outputs": [
        {
          "name": "stdout",
          "output_type": "stream",
          "text": [
            "Success querying EVGN_Predict\n"
          ]
        }
      ],
      "source": [
        "# Create Prediction Stock dataset\n",
        "\n",
        "try:\n",
        "  query = f\"SELECT * FROM all_historical WHERE ticker = 'PLUG';\" # *NOTE* Cannot run predictions on EVGN_Predict rn because it has 0 valid days, using GSAT\n",
        "  cursor.execute(query)\n",
        "  if cursor.fetchone() is None:\n",
        "    raise Exception(\"No results\")\n",
        "  print(f\"Success querying EVGN_Predict\")\n",
        "except:\n",
        "  sys.stderr.write(f\"Failed to select EVGN_Predict\")\n",
        "\n",
        "# Turn SQlite Database into Pandas Dataframe\n",
        "predict_data_whole = pd.read_sql_query(query, sqliteConnection)\n",
        "\n",
        "# Split into known vs unknown, where unknown is the last 78 entries\n",
        "split_index_whole = len(predict_data_whole) - 78\n",
        "known_data_whole = predict_data_whole.iloc[:-78]\n",
        "unknown_data_whole = predict_data_whole.iloc[-78:]\n",
        "\n",
        "# # Features\n",
        "# known_features = known_data_whole[['volume', 'volume_weighted_average', 'open', 'close', 'high', 'low']].values\n",
        "known_features = known_data_whole[['close', 'volume', 'time']].values\n",
        "known_closes = np.array([known_features[:, 0]]).T\n",
        "known_volume = np.array([known_features[:, 1]]).T\n",
        "\n",
        "\n",
        " # Normalize features\n",
        "predict_close_scaler = MinMaxScaler(feature_range=(0, 1))\n",
        "predict_volume_scaler = MinMaxScaler(feature_range=(0, 1))\n",
        "scaled_close = predict_close_scaler.fit_transform(known_closes)\n",
        "scaled_volume = predict_volume_scaler.fit_transform(known_volume)\n",
        "\n",
        "scaled_known_features = known_features\n",
        "known_features[:, 0] = scaled_close[:, 0]\n",
        "known_features[:, 1] = scaled_volume[:, 0]\n",
        "\n"
      ]
    },
    {
      "cell_type": "code",
      "execution_count": 730,
      "metadata": {
        "id": "6ymq09w-TRXL"
      },
      "outputs": [],
      "source": [
        "# Create dates column from miliseconds\n",
        "dates = pd.to_datetime(known_data_whole['time'], unit='ms')\n",
        "tickers = known_data_whole['ticker']\n",
        "dates = dates.dt.tz_localize('UTC').dt.tz_convert('US/Pacific')\n",
        "dates = dates.dt.tz_localize(None)"
      ]
    },
    {
      "cell_type": "code",
      "execution_count": 731,
      "metadata": {
        "id": "rUHlZ84KSYxX"
      },
      "outputs": [
        {
          "data": {
            "text/plain": [
              "(1, 78, 3)"
            ]
          },
          "execution_count": 731,
          "metadata": {},
          "output_type": "execute_result"
        }
      ],
      "source": [
        "# Create Prediction Sequences\n",
        "sequence_length = 78\n",
        "prediction_length = 78\n",
        "\n",
        "def create_predict_sequences(data, sequence_length):\n",
        "    index = len(data) - sequence_length\n",
        "    xs = []\n",
        "    xs.append(data[index:])  # Use the last sequence_length data points\n",
        "    return np.array(xs)\n",
        "x_predict = create_predict_sequences(scaled_known_features, sequence_length)\n",
        "x_predict.shape\n"
      ]
    },
    {
      "cell_type": "code",
      "execution_count": 732,
      "metadata": {
        "colab": {
          "base_uri": "https://localhost:8080/",
          "height": 358
        },
        "id": "-WQfWiYxTygC",
        "outputId": "596113c5-7d00-4d40-d4ee-913ebf3d59ad"
      },
      "outputs": [
        {
          "name": "stdout",
          "output_type": "stream",
          "text": [
            "\u001b[1m1/1\u001b[0m \u001b[32m━━━━━━━━━━━━━━━━━━━━\u001b[0m\u001b[37m\u001b[0m \u001b[1m0s\u001b[0m 17ms/step\n",
            "[[ 0.08051697  0.11021508  0.23544471  0.16834489 -0.04804096  0.09840204\n",
            "   0.18713556  0.26569158  0.06080503  0.30165118  0.23216365  0.07366291\n",
            "  -0.0908705   0.06569879  0.4195948   0.25832126 -0.09828165  0.28356358\n",
            "   0.08543324  0.18077074 -0.04941475  0.10037109 -0.05669641  0.2560473\n",
            "   0.21470276 -0.03525395 -0.01236429  0.02847582  0.068801    0.08095674\n",
            "  -0.01436365 -0.09638964  0.26574585 -0.13611417  0.09324806 -0.09736326\n",
            "   0.06168531  0.18871562 -0.12866269 -0.10619245  0.17771263 -0.01432519\n",
            "   0.27581817  0.29360113  0.39084986 -0.00597894 -0.13845798  0.17046629\n",
            "   0.19174457  0.0969452   0.53997916  0.12580425  0.11676524  0.21884286\n",
            "   0.05728427  0.32469752  0.17257501  0.15857337 -0.11434731  0.07256046\n",
            "   0.26127392  0.08240682 -0.07495186  0.01392777 -0.00113605 -0.15872516\n",
            "   0.24707247  0.20428789  0.19194135  0.02180963  0.22966301 -0.0319323\n",
            "  -0.01222105  0.10554135  0.21918781 -0.0936016  -0.08839513 -0.06367899]]\n"
          ]
        }
      ],
      "source": [
        "# Predict with model\n",
        "\n",
        "predicted_stock_sequence = model.predict(x_predict)\n",
        "print(predicted_stock_sequence)\n",
        "\n",
        "# Unscale\n",
        "final_predictions = predict_close_scaler.inverse_transform(predicted_stock_sequence)\n",
        "\n",
        "# Evaluate the model\n",
        "# model.evaluate(x_predict, final_predictions)"
      ]
    },
    {
      "cell_type": "code",
      "execution_count": 733,
      "metadata": {
        "id": "ZI07GI7IS3_I"
      },
      "outputs": [
        {
          "data": {
            "image/png": "[encoded data removed]",
            "text/plain": [
              "<Figure size 1400x700 with 1 Axes>"
            ]
          },
          "metadata": {},
          "output_type": "display_data"
        }
      ],
      "source": [
        "# Plot results\n",
        "import matplotlib.pyplot as plt\n",
        "\n",
        "# Create the combined index for plotting\n",
        "combined_index = np.arange(len(predict_data_whole))\n",
        "\n",
        "# Create\n",
        "plt.figure(figsize=(14, 7))\n",
        "\n",
        "# Plot\n",
        "plt.plot(combined_index, predict_data_whole['close'], label='Example \"Prediction\" Data', color='black', linewidth=3.0)\n",
        "plt.plot(combined_index[:split_index_whole], known_data_whole['close'], label='\"Known\" Data', color='cyan', linewidth=2.0, linestyle=\"--\")\n",
        "plt.plot(combined_index[split_index_whole:], unknown_data_whole['close'], label='\"Unknown\" Data', color='orange', linewidth=2.0, linestyle=\"--\")\n",
        "\n",
        "plt.plot(combined_index[split_index_whole:], final_predictions[0], label='Model Prediction', color='purple', linewidth=2.0, linestyle=\"-\")\n",
        "\n",
        "\n",
        "\n",
        "# Format\n",
        "plt.title('Comparison of Historical, Actual, and Predicted Data')\n",
        "plt.xlabel('Time Steps')\n",
        "plt.ylabel('Stock Price')\n",
        "plt.legend()\n",
        "\n",
        "# Adjust y-axis limits based on the data range\n",
        "# plt.ylim(predict_data_whole.iloc[-200:]['close'].min() - 0.2, predict_data_whole.iloc[-200:]['close'].max() + 0.2)\n",
        "plt.xlim(len(predict_data_whole) - 200, len(predict_data_whole))  # Crop view to just the very end\n",
        "\n",
        "# Set y-tick locations with a step of 0.05\n",
        "# yticks = np.arange(min(predict_data_whole['close']) // 0.05 * 0.05, (max(predict_data_whole['close']) // 0.05 + 1) * 0.05, 0.05)\n",
        "# plt.yticks(yticks)\n",
        "\n",
        "plt.show()\n"
      ]
    },
    {
      "cell_type": "code",
      "execution_count": null,
      "metadata": {},
      "outputs": [],
      "source": [
        "# Plot results\n",
        "import matplotlib.pyplot as plt\n",
        "\n",
        "# Create the combined index for plotting\n",
        "combined_index = np.arange(len(predict_data_whole))\n",
        "\n",
        "# Create\n",
        "plt.figure(figsize=(14, 7))\n",
        "\n",
        "# Plot\n",
        "plt.plot(combined_index, predict_data_whole['close'], label='Example \"Prediction\" Data', color='black', linewidth=3.0)\n",
        "plt.plot(combined_index[:split_index_whole], known_data_whole['close'], label='\"Known\" Data', color='cyan', linewidth=2.0, linestyle=\"--\")\n",
        "plt.plot(combined_index[split_index_whole:], unknown_data_whole['close'], label='\"Unknown\" Data', color='orange', linewidth=2.0, linestyle=\"--\")\n",
        "\n",
        "plt.plot(combined_index[split_index_whole:], final_predictions[0], label='Model Prediction', color='purple', linewidth=2.0, linestyle=\"-\")\n",
        "\n",
        "\n",
        "\n",
        "# Format\n",
        "plt.title('Comparison of Historical, Actual, and Predicted Data')\n",
        "plt.xlabel('Time Steps')\n",
        "plt.ylabel('Stock Price')\n",
        "plt.legend()\n",
        "\n",
        "# Adjust y-axis limits based on the data range\n",
        "# plt.ylim(predict_data_whole.iloc[-200:]['close'].min() - 0.2, predict_data_whole.iloc[-200:]['close'].max() + 0.2)\n",
        "plt.xlim(len(predict_data_whole) - 200, len(predict_data_whole))  # Crop view to just the very end\n",
        "\n",
        "# Set y-tick locations with a step of 0.05\n",
        "# yticks = np.arange(min(predict_data_whole['close']) // 0.05 * 0.05, (max(predict_data_whole['close']) // 0.05 + 1) * 0.05, 0.05)\n",
        "# plt.yticks(yticks)\n",
        "\n",
        "plt.show()\n"
      ]
    }
  ],
  "metadata": {
    "colab": {
      "provenance": []
    },
    "kernelspec": {
      "display_name": "Python 3",
      "name": "python3"
    },
    "language_info": {
      "codemirror_mode": {
        "name": "ipython",
        "version": 3
      },
      "file_extension": ".py",
      "mimetype": "text/x-python",
      "name": "python",
      "nbconvert_exporter": "python",
      "pygments_lexer": "ipython3",
      "version": "3.9.6"
    }
  },
  "nbformat": 4,
  "nbformat_minor": 0
}
