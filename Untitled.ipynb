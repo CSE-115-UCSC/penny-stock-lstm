{
 "cells": [
  {
   "cell_type": "code",
   "execution_count": null,
   "id": "acf272ea-163a-413e-a812-71a4c500ae52",
   "metadata": {},
   "outputs": [],
   "source": [
    "pipeline.func1(rawData).impute().selectColumns([\"closeNorm\", \"weightedAverage\"]).buildModel()"
   ]
  },
  {
   "cell_type": "code",
   "execution_count": null,
   "id": "590ae6c8-b4be-4e88-b545-df4008dfcfae",
   "metadata": {},
   "outputs": [],
   "source": [
    "pipeline.func1(rawData).impute().selectColumns([\"closeNorm\", \"weightedAverage\"]).buildModel()"
   ]
  },
  {
   "cell_type": "code",
   "execution_count": null,
   "id": "1dca32c3-cb76-48bc-a2f4-b6301d349f80",
   "metadata": {},
   "outputs": [],
   "source": [
    "pipeline.func1(rawData).impute().selectColumns([\"closeNorm\", \"volume\"]).buildModel()"
   ]
  },
  {
   "cell_type": "code",
   "execution_count": null,
   "id": "3a272223-9c96-4fe2-93b9-f193f7c451d4",
   "metadata": {},
   "outputs": [],
   "source": [
    "pipeline.func1(rawData).selectColumns([\"closeNorm\", \"openNorm\"]).buildModel()"
   ]
  }
 ],
 "metadata": {
  "kernelspec": {
   "display_name": "Python 3 (ipykernel)",
   "language": "python",
   "name": "python3"
  },
  "language_info": {
   "codemirror_mode": {
    "name": "ipython",
    "version": 3
   },
   "file_extension": ".py",
   "mimetype": "text/x-python",
   "name": "python",
   "nbconvert_exporter": "python",
   "pygments_lexer": "ipython3",
   "version": "3.8.16"
  }
 },
 "nbformat": 4,
 "nbformat_minor": 5
}
