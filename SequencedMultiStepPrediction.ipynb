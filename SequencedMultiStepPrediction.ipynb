{
 "cells": [
  {
   "cell_type": "markdown",
   "metadata": {
    "id": "view-in-github"
   },
   "source": [
    "<a href=\"https://colab.research.google.com/github/aidanjmaldonado/penny-stock-lstm/blob/main/penny_stock.ipynb\" target=\"_parent\"><img src=\"https://colab.research.google.com/assets/colab-badge.svg\" alt=\"Open In Colab\"/></a>"
   ]
  },
  {
   "cell_type": "code",
   "execution_count": 3,
   "metadata": {
    "id": "AB9VHvt_xNXa"
   },
   "outputs": [],
   "source": [
    "import numpy as np\n",
    "import pandas as pd\n",
    "# from sklearn.preprocessing import MinMaxScaler\n",
    "# from keras.models import Sequential\n",
    "# from keras.layers import LSTM, Dense, Dropout\n",
    "# from keras.callbacks import EarlyStopping\n",
    "import sqlite3\n",
    "import requests\n",
    "import sys\n",
    "import pytz\n",
    "\n",
    "\n",
    "\n",
    "\n",
    "\n",
    "\n"
   ]
  },
  {
   "cell_type": "markdown",
   "metadata": {
    "id": "SJBjdbHzoWvZ"
   },
   "source": [
    "# Create database"
   ]
  },
  {
   "cell_type": "code",
   "execution_count": 4,
   "metadata": {
    "colab": {
     "base_uri": "https://localhost:8080/"
    },
    "id": "9DGRIE9XnRw8",
    "outputId": "6508016c-ad1a-4093-a569-9f89141212b8"
   },
   "outputs": [
    {
     "name": "stdout",
     "output_type": "stream",
     "text": [
      "Request to download database succeeded\n"
     ]
    }
   ],
   "source": [
    "# Download database from github repository\n",
    "historical_url = \"https://raw.githubusercontent.com/CSE-115-UCSC/penny-stock-lstm/main/historicaldata.db\"\n",
    "scrape_request = requests.get(historical_url)\n",
    "\n",
    "try:\n",
    "  # Contingent on request status\n",
    "  scrape_request = requests.get(historical_url)\n",
    "  scrape_request.raise_for_status()\n",
    "\n",
    "  # Create local database from pull, name 'historicaldata.db'\n",
    "  with open(\"historical.db\", \"wb\") as db_file:\n",
    "    db_file.write(scrape_request.content)\n",
    "\n",
    "  print(\"Request to download database succeeded\")\n",
    "\n",
    "\n",
    "except:\n",
    "  # Report failed request status\n",
    "  sys.stderr.write(\"Request to download database failed\")"
   ]
  },
  {
   "cell_type": "code",
   "execution_count": 4,
   "metadata": {
    "colab": {
     "base_uri": "https://localhost:8080/"
    },
    "id": "KApKP8mve16y",
    "outputId": "31f2ef1e-1541-4640-e3c1-ce50a4bbf469"
   },
   "outputs": [
    {
     "name": "stdout",
     "output_type": "stream",
     "text": [
      "SQlite connected with historical.db\n"
     ]
    }
   ],
   "source": [
    "# Connect to SQlite database\n",
    "try:\n",
    "    db = 'historical.db'\n",
    "    sqliteConnection = sqlite3.connect(db)\n",
    "    cursor = sqliteConnection.cursor()\n",
    "    print(f'SQlite connected with {db}')\n",
    "\n",
    "except:\n",
    "    sys.stderr.write(\"Failed to connect to database\")"
   ]
  },
  {
   "cell_type": "code",
   "execution_count": 26,
   "metadata": {
    "colab": {
     "base_uri": "https://localhost:8080/"
    },
    "id": "or4POn4Ye_Lw",
    "outputId": "86ef5430-6687-4c6f-ab98-6ebebb07acc7"
   },
   "outputs": [
    {
     "name": "stdout",
     "output_type": "stream",
     "text": [
      "Success querying all historical\n"
     ]
    }
   ],
   "source": [
    "# Query {ticker(s)} from Database\n",
    "try:\n",
    "    query = f\"SELECT * FROM all_historical WHERE ticker != 'GSAT';\"\n",
    "    cursor.execute(query)\n",
    "    if cursor.fetchone() is None:\n",
    "        raise Exception(\"No results\")\n",
    "\n",
    "    print(f\"Success querying all historical\")\n",
    "    # Turn SQlite Database into Pandas Dataframe\n",
    "    data = pd.read_sql_query(query, sqliteConnection)\n",
    "\n",
    "except:\n",
    "    sys.stderr.write(f\"Failed to select all historical\")"
   ]
  },
  {
   "cell_type": "code",
   "execution_count": 27,
   "metadata": {
    "id": "_MxXjzzSQ1b_"
   },
   "outputs": [],
   "source": [
    "# Using the column 'time' (millisecond) add a new column 'dates' with datetime\n",
    "dates = pd.to_datetime(data['time'], unit='ms')\n",
    "tickers = data['ticker']\n",
    "dates = dates.dt.tz_localize('UTC').dt.tz_convert('US/Pacific')\n",
    "dates = dates.dt.tz_localize(None)"
   ]
  },
  {
   "cell_type": "markdown",
   "metadata": {
    "id": "1MRzML9poTXB"
   },
   "source": [
    "# Train on all historical stock data, sequenced"
   ]
  },
  {
   "cell_type": "code",
   "execution_count": 28,
   "metadata": {
    "colab": {
     "base_uri": "https://localhost:8080/"
    },
    "id": "ToUrsdh6ki-s",
    "outputId": "1f795df1-a087-4044-d713-4fb25291d731"
   },
   "outputs": [
    {
     "name": "stdout",
     "output_type": "stream",
     "text": [
      "Valid days: 290\n",
      "x_train shape: (232, 78, 6)\n",
      "y_train shape: (232, 78)\n",
      "x_test shape: (58, 78, 6)\n",
      "y_test shape: (58, 78)\n",
      "Epoch 1/100\n",
      "7/7 [==============================] - 5s 231ms/step - loss: 9.9508e-07 - val_loss: 1.9316e-07\n",
      "Epoch 2/100\n",
      "7/7 [==============================] - 1s 75ms/step - loss: 4.6868e-07 - val_loss: 2.9464e-07\n",
      "Epoch 3/100\n",
      "7/7 [==============================] - 1s 78ms/step - loss: 3.7481e-07 - val_loss: 1.5429e-07\n",
      "Epoch 4/100\n",
      "7/7 [==============================] - 1s 78ms/step - loss: 3.2593e-07 - val_loss: 1.3581e-07\n",
      "Epoch 5/100\n",
      "7/7 [==============================] - 1s 112ms/step - loss: 3.1144e-07 - val_loss: 1.6861e-07\n",
      "Epoch 6/100\n",
      "7/7 [==============================] - 1s 130ms/step - loss: 3.0386e-07 - val_loss: 1.3514e-07\n",
      "Epoch 7/100\n",
      "7/7 [==============================] - 1s 129ms/step - loss: 2.9499e-07 - val_loss: 1.3012e-07\n",
      "Epoch 8/100\n",
      "7/7 [==============================] - 1s 130ms/step - loss: 3.0061e-07 - val_loss: 2.6020e-07\n",
      "Epoch 9/100\n",
      "7/7 [==============================] - 1s 129ms/step - loss: 3.1560e-07 - val_loss: 7.8831e-08\n",
      "Epoch 10/100\n",
      "7/7 [==============================] - 1s 81ms/step - loss: 3.2388e-07 - val_loss: 1.8666e-07\n",
      "Epoch 11/100\n",
      "7/7 [==============================] - 1s 76ms/step - loss: 3.2477e-07 - val_loss: 2.3058e-07\n",
      "Epoch 12/100\n",
      "7/7 [==============================] - 1s 80ms/step - loss: 3.1563e-07 - val_loss: 1.5086e-07\n",
      "Epoch 13/100\n",
      "7/7 [==============================] - 1s 76ms/step - loss: 3.1620e-07 - val_loss: 8.6857e-08\n",
      "Epoch 14/100\n",
      "7/7 [==============================] - 1s 80ms/step - loss: 2.9494e-07 - val_loss: 2.3380e-07\n",
      "Epoch 15/100\n",
      "7/7 [==============================] - 1s 77ms/step - loss: 3.0650e-07 - val_loss: 1.1056e-07\n",
      "Epoch 16/100\n",
      "7/7 [==============================] - 1s 83ms/step - loss: 2.9887e-07 - val_loss: 9.5880e-08\n",
      "Epoch 17/100\n",
      "7/7 [==============================] - 1s 76ms/step - loss: 3.0540e-07 - val_loss: 1.9634e-07\n",
      "Epoch 18/100\n",
      "7/7 [==============================] - 1s 81ms/step - loss: 3.0172e-07 - val_loss: 1.5715e-07\n",
      "Epoch 19/100\n",
      "7/7 [==============================] - 1s 79ms/step - loss: 3.0093e-07 - val_loss: 2.0024e-07\n",
      "2/2 [==============================] - 0s 26ms/step - loss: 0.0162\n"
     ]
    },
    {
     "data": {
      "text/plain": [
       "0.016174405813217163"
      ]
     },
     "execution_count": 28,
     "metadata": {},
     "output_type": "execute_result"
    }
   ],
   "source": [
    "# Select features to use\n",
    "features = data[['volume', 'volume_weighted_average', 'open', 'close', 'high', 'low']].values\n",
    "\n",
    "# Normalize features\n",
    "scaler = MinMaxScaler(feature_range=(0, 1))\n",
    "scaled_features = scaler.fit_transform(features)\n",
    "\n",
    "def create_sequences(data, sequence_length, prediction_length):\n",
    "    xs, ys = [], []\n",
    "    index = 0\n",
    "    count = 0\n",
    "    while index < len(data) - sequence_length - prediction_length + 1:\n",
    "        # Check if sequence is within a single day\n",
    "        if dates[index].date() == dates[index + sequence_length].date() and tickers[index] == tickers[index + sequence_length]:\n",
    "            # If day == 2024-05-31, print\n",
    "            # if dates[index] == \"2024-05-31\":\n",
    "            # print(\"We got a sequence from\", dates[index], \"to\", dates[index + sequence_length], \"sequence-length is\", (index + sequence_length) -index, tickers[index], tickers[index + sequence_length])\n",
    "            xs.append(data[index:index + sequence_length])\n",
    "            ys.append(data[index + sequence_length:index + sequence_length + prediction_length, 3])\n",
    "            index += sequence_length\n",
    "            count += 1\n",
    "        else:  # Move index to the start of the next day\n",
    "            newindex = index\n",
    "            while dates[newindex].date() == dates[newindex + 1].date():\n",
    "                newindex += 1\n",
    "            newindex += 1\n",
    "            index = newindex\n",
    "    print(\"Valid days:\", count)\n",
    "    return np.array(xs), np.array(ys)\n",
    "\n",
    "# One day sequence lenght\n",
    "sequence_length = 78\n",
    "prediction_length = 78\n",
    "x, y = create_sequences(scaled_features, sequence_length, prediction_length)\n",
    "\n",
    "train_size = int(len(x) * 0.8)\n",
    "x_train, x_test = x[:train_size], x[train_size:]\n",
    "y_train, y_test = y[:train_size], y[train_size:]\n",
    "\n",
    "# Split data into train and test sets\n",
    "train_size = int(len(x) * 0.8)\n",
    "x_train, x_test = x[:train_size], x[train_size:]\n",
    "y_train, y_test = y[:train_size], y[train_size:]\n",
    "\n",
    "print(\"x_train shape:\", x_train.shape)\n",
    "print(\"y_train shape:\", y_train.shape)\n",
    "print(\"x_test shape:\", x_test.shape)\n",
    "print(\"y_test shape:\", y_test.shape)\n",
    "\n",
    "\n",
    "# Build LSTM model\n",
    "model = Sequential()\n",
    "model.add(LSTM(50, return_sequences=True, input_shape=(sequence_length, x_train.shape[2])))\n",
    "model.add(LSTM(50))\n",
    "model.add(Dense(50, activation='relu'))\n",
    "model.add(Dropout(0.2))\n",
    "model.add(Dense(prediction_length))\n",
    "\n",
    "model.compile(optimizer='adam', loss='mse')\n",
    "\n",
    "# Train the model\n",
    "early_stopping = EarlyStopping(monitor='val_loss', patience=10, restore_best_weights=True)\n",
    "model.fit(x_train, y_train, epochs=100, batch_size=32, validation_split=0.1, callbacks=[early_stopping])\n",
    "\n",
    "# Evaluate the model\n",
    "model.evaluate(x_test, y_test)"
   ]
  },
  {
   "cell_type": "markdown",
   "metadata": {
    "id": "_YtkL05SoPGl"
   },
   "source": [
    "# Prediction on unseen 'Real-Time' stock\n"
   ]
  },
  {
   "cell_type": "code",
   "execution_count": 29,
   "metadata": {
    "colab": {
     "base_uri": "https://localhost:8080/"
    },
    "id": "gaButDJTSHG5",
    "outputId": "a168c71e-1326-48c6-96cd-12c5344e91ff"
   },
   "outputs": [
    {
     "name": "stdout",
     "output_type": "stream",
     "text": [
      "Success querying EVGN_Predict\n"
     ]
    }
   ],
   "source": [
    "# Create Prediction Stock dataset\n",
    "\n",
    "try:\n",
    "  query = f\"SELECT * FROM all_historical WHERE ticker = 'GSAT';\" # *NOTE* Cannot run predictions on EVGN_Predict rn because it has 0 valid days, using GSAT\n",
    "  cursor.execute(query)\n",
    "  if cursor.fetchone() is None:\n",
    "    raise Exception(\"No results\")\n",
    "  print(f\"Success querying EVGN_Predict\")\n",
    "except:\n",
    "  sys.stderr.write(f\"Failed to select EVGN_Predict\")\n",
    "\n",
    "# Turn SQlite Database into Pandas Dataframe\n",
    "predict_data_whole = pd.read_sql_query(query, sqliteConnection)\n",
    "\n",
    "# Split into known vs unknown, where unknown is the last 78 entries\n",
    "split_index_whole = len(predict_data_whole) - 78\n",
    "known_data_whole = predict_data_whole.iloc[:-78]\n",
    "unknown_data_whole = predict_data_whole.iloc[-78:]\n",
    "\n",
    "# Features\n",
    "known_features = known_data_whole[['volume', 'volume_weighted_average', 'open', 'close', 'high', 'low']].values\n",
    "\n",
    "# Normalize features\n",
    "scaler = MinMaxScaler(feature_range=(0, 1))\n",
    "scaled_known_features = scaler.fit_transform(known_features)\n",
    "\n"
   ]
  },
  {
   "cell_type": "code",
   "execution_count": 30,
   "metadata": {
    "id": "6ymq09w-TRXL"
   },
   "outputs": [],
   "source": [
    "# Create dates column from miliseconds\n",
    "dates = pd.to_datetime(known_data_whole['time'], unit='ms')\n",
    "tickers = known_data_whole['ticker']\n",
    "dates = dates.dt.tz_localize('UTC').dt.tz_convert('US/Pacific')\n",
    "dates = dates.dt.tz_localize(None)"
   ]
  },
  {
   "cell_type": "code",
   "execution_count": 31,
   "metadata": {
    "colab": {
     "base_uri": "https://localhost:8080/"
    },
    "id": "rUHlZ84KSYxX",
    "outputId": "85ed1f4e-9572-4034-950b-767a32823fe7"
   },
   "outputs": [
    {
     "name": "stdout",
     "output_type": "stream",
     "text": [
      "Valid days: 4\n"
     ]
    }
   ],
   "source": [
    "# Create Prediction Sequences\n",
    "sequence_length = 78\n",
    "prediction_length = 78\n",
    "x_predict, y_predict = create_sequences(scaled_known_features, sequence_length, prediction_length)"
   ]
  },
  {
   "cell_type": "code",
   "execution_count": 32,
   "metadata": {
    "colab": {
     "base_uri": "https://localhost:8080/"
    },
    "id": "-WQfWiYxTygC",
    "outputId": "1b72c1df-8cd7-472a-fa0f-03577878da72"
   },
   "outputs": [
    {
     "name": "stdout",
     "output_type": "stream",
     "text": [
      "1/1 [==============================] - 1s 872ms/step\n",
      "1/1 [==============================] - 0s 36ms/step - loss: 0.3438\n"
     ]
    },
    {
     "data": {
      "text/plain": [
       "0.34380266070365906"
      ]
     },
     "execution_count": 32,
     "metadata": {},
     "output_type": "execute_result"
    }
   ],
   "source": [
    "# Predict with model\n",
    "predicted_stock_sequence = model.predict(x_predict)\n",
    "\n",
    "# Evaluate the model\n",
    "model.evaluate(x_predict, y_predict)"
   ]
  },
  {
   "cell_type": "code",
   "execution_count": 33,
   "metadata": {
    "colab": {
     "base_uri": "https://localhost:8080/",
     "height": 641
    },
    "id": "ZI07GI7IS3_I",
    "outputId": "a8d9f741-574e-42ad-e677-f2b33dc618cb"
   },
   "outputs": [
    {
     "data": {
      "image/png": "[encoded data removed]",
      "text/plain": [
       "<Figure size 1400x700 with 1 Axes>"
      ]
     },
     "metadata": {},
     "output_type": "display_data"
    }
   ],
   "source": [
    "# Plot results\n",
    "import matplotlib.pyplot as plt\n",
    "\n",
    "# Create the combined index for plotting\n",
    "combined_index = np.arange(len(predict_data_whole))\n",
    "\n",
    "# Create\n",
    "plt.figure(figsize=(14, 7))\n",
    "\n",
    "# Plot\n",
    "plt.plot(combined_index, predict_data_whole['close'], label='Example \"Prediction\" Data', color='black', linewidth=3.0)\n",
    "plt.plot(combined_index[:split_index_whole], known_data_whole['close'], label='\"Known\" Data', color='cyan', linewidth=2.0, linestyle=\"--\")\n",
    "plt.plot(combined_index[split_index_whole:], unknown_data_whole['close'], label='\"Unknown\" Data', color='orange', linewidth=2.0, linestyle=\"--\")\n",
    "plt.plot(combined_index[split_index_whole:], predicted_stock_sequence[1], label='Model Prediction', color='purple', linewidth=2.0, linestyle=\"-\")\n",
    "\n",
    "# Format\n",
    "plt.title('Comparison of Historical, Actual, and Predicted Data')\n",
    "plt.xlabel('Time Steps')\n",
    "plt.ylabel('Stock Price')\n",
    "plt.legend()\n",
    "\n",
    "# Adjust y-axis limits based on the data range\n",
    "# plt.ylim(predict_data_whole.iloc[-200:]['close'].min() - 0.2, predict_data_whole.iloc[-200:]['close'].max() + 0.2)\n",
    "plt.xlim(len(predict_data_whole) - 200, len(predict_data_whole))  # Crop view to just the very end\n",
    "\n",
    "# Set y-tick locations with a step of 0.05\n",
    "# yticks = np.arange(min(predict_data_whole['close']) // 0.05 * 0.05, (max(predict_data_whole['close']) // 0.05 + 1) * 0.05, 0.05)\n",
    "# plt.yticks(yticks)\n",
    "\n",
    "plt.show()\n"
   ]
  }
 ],
 "metadata": {
  "colab": {
   "provenance": []
  },
  "kernelspec": {
   "display_name": "Python 3 (ipykernel)",
   "language": "python",
   "name": "python3"
  },
  "language_info": {
   "codemirror_mode": {
    "name": "ipython",
    "version": 3
   },
   "file_extension": ".py",
   "mimetype": "text/x-python",
   "name": "python",
   "nbconvert_exporter": "python",
   "pygments_lexer": "ipython3",
   "version": "3.8.16"
  }
 },
 "nbformat": 4,
 "nbformat_minor": 4
}
