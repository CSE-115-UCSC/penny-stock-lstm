{
  "nbformat": 4,
  "nbformat_minor": 0,
  "metadata": {
    "colab": {
      "provenance": [],
      "gpuType": "T4"
    },
    "kernelspec": {
      "name": "python3",
      "display_name": "Python 3"
    },
    "language_info": {
      "name": "python"
    },
    "accelerator": "GPU"
  },
  "cells": [
    {
      "cell_type": "markdown",
      "metadata": {
        "id": "view-in-github"
      },
      "source": [
        "<a href=\"https://colab.research.google.com/github/aidanjmaldonado/penny-stock-lstm/blob/main/penny_stock.ipynb\" target=\"_parent\"><img src=\"https://colab.research.google.com/assets/colab-badge.svg\" alt=\"Open In Colab\"/></a>"
      ]
    },
    {
      "cell_type": "code",
      "execution_count": 10,
      "metadata": {
        "id": "AB9VHvt_xNXa"
      },
      "outputs": [],
      "source": [
        "import numpy as np\n",
        "import pandas as pd\n",
        "from sklearn.preprocessing import MinMaxScaler\n",
        "from keras.models import Sequential\n",
        "from keras.layers import LSTM, Dense, Dropout\n",
        "from keras.callbacks import EarlyStopping\n",
        "import sqlite3\n",
        "import requests\n",
        "import sys\n",
        "\n",
        "\n",
        "\n",
        "\n",
        "\n",
        "\n"
      ]
    },
    {
      "cell_type": "code",
      "source": [
        "# Download database from github repository\n",
        "historical_url = \"https://raw.githubusercontent.com/CSE-115-UCSC/penny-stock-lstm/main/historicaldata.db\"\n",
        "scrape_request = requests.get(historical_url)\n",
        "\n",
        "try:\n",
        "  # Contingent on request status\n",
        "  scrape_request = requests.get(historical_url)\n",
        "  scrape_request.raise_for_status()\n",
        "\n",
        "  # Create local database from pull, name 'historicaldata.db'\n",
        "  with open(\"historical.db\", \"wb\") as db_file:\n",
        "    db_file.write(scrape_request.content)\n",
        "\n",
        "  print(\"Request to download database succeeded\")\n",
        "\n",
        "\n",
        "except:\n",
        "  # Report failed request status\n",
        "  sys.stderr.write(\"Request to download database failed\")"
      ],
      "metadata": {
        "id": "9DGRIE9XnRw8",
        "colab": {
          "base_uri": "https://localhost:8080/"
        },
        "outputId": "623f5c02-cfdc-4ca4-cbf5-6f3e5ffdecbe"
      },
      "execution_count": 11,
      "outputs": [
        {
          "output_type": "stream",
          "name": "stdout",
          "text": [
            "Request to download database succeeded\n"
          ]
        }
      ]
    },
    {
      "cell_type": "code",
      "source": [
        "# Connect to SQlite database\n",
        "try:\n",
        "  db = 'historical.db'\n",
        "  sqliteConnection = sqlite3.connect(db)\n",
        "  cursor = sqliteConnection.cursor()\n",
        "  print(f'SQlite connected with {db}')\n",
        "\n",
        "except:\n",
        "  sys.stderr.write(\"Failed to connect to database\")"
      ],
      "metadata": {
        "colab": {
          "base_uri": "https://localhost:8080/"
        },
        "id": "KApKP8mve16y",
        "outputId": "de355ee4-1fbf-4f7d-fd7e-331ecf68cc82"
      },
      "execution_count": 12,
      "outputs": [
        {
          "output_type": "stream",
          "name": "stdout",
          "text": [
            "SQlite connected with historical.db\n"
          ]
        }
      ]
    },
    {
      "cell_type": "code",
      "source": [
        "# Gather User Input for Query\n",
        "# ticker = input(\"Enter ticker symbol: \")\n",
        "ticker = \"IAG\""
      ],
      "metadata": {
        "id": "M8UPeAKGe8UL"
      },
      "execution_count": 13,
      "outputs": []
    },
    {
      "cell_type": "code",
      "source": [
        "# Query {ticker(s)} from Database\n",
        "try:\n",
        "  query = f\"SELECT * FROM all_historical WHERE ticker = '{ticker}';\"\n",
        "  cursor.execute(query)\n",
        "  if cursor.fetchone() is None:\n",
        "    raise Exception(\"No results\")\n",
        "  print(f\"Success querying {ticker}\")\n",
        "\n",
        "except:\n",
        "  sys.stderr.write(f\"Failed to select {ticker}\")"
      ],
      "metadata": {
        "colab": {
          "base_uri": "https://localhost:8080/"
        },
        "id": "or4POn4Ye_Lw",
        "outputId": "ce5c84e8-c658-4845-84e0-5477f621b45f"
      },
      "execution_count": 14,
      "outputs": [
        {
          "output_type": "stream",
          "name": "stdout",
          "text": [
            "Success querying IAG\n"
          ]
        }
      ]
    },
    {
      "cell_type": "code",
      "source": [
        "# Turn SQlite Database into Pandas Dataframe\n",
        "data = pd.read_sql_query(query, sqliteConnection)\n",
        "print(data.shape)\n",
        "\n",
        "# Features\n",
        "features = np.array(data.columns)\n",
        "print(features)\n",
        "\n",
        "# Using the column 'time' (millisecond) add a new column 'dates' with datetime\n",
        "data['dates'] = pd.to_datetime(data['time'], unit='ms')\n",
        "\n",
        "# Display Head\n",
        "data.head()"
      ],
      "metadata": {
        "colab": {
          "base_uri": "https://localhost:8080/",
          "height": 258
        },
        "id": "RInKecJXfCka",
        "outputId": "f180c906-5c58-4673-e493-8644ba8c6b57"
      },
      "execution_count": 16,
      "outputs": [
        {
          "output_type": "stream",
          "name": "stdout",
          "text": [
            "(21230, 10)\n",
            "['id' 'ticker' 'volume' 'volume_weighted_average' 'open' 'close' 'high'\n",
            " 'low' 'time' 'number_of_trades']\n"
          ]
        },
        {
          "output_type": "execute_result",
          "data": {
            "text/plain": [
              "       id ticker  volume  volume_weighted_average   open  close    high   low  \\\n",
              "0  146894    IAG  184929                   1.4695  1.475  1.460  1.4750  1.46   \n",
              "1  146895    IAG   95464                   1.4598  1.465  1.465  1.4650  1.45   \n",
              "2  146896    IAG   12896                   1.4610  1.465  1.465  1.4699  1.46   \n",
              "3  146897    IAG   29196                   1.4590  1.460  1.450  1.4600  1.45   \n",
              "4  146898    IAG   21968                   1.4564  1.455  1.455  1.4600  1.45   \n",
              "\n",
              "            time  number_of_trades               dates  \n",
              "0  1657643400000               196 2022-07-12 16:30:00  \n",
              "1  1657643700000                80 2022-07-12 16:35:00  \n",
              "2  1657644000000                22 2022-07-12 16:40:00  \n",
              "3  1657644300000                29 2022-07-12 16:45:00  \n",
              "4  1657644600000                22 2022-07-12 16:50:00  "
            ],
            "text/html": [
              "\n",
              "  <div id=\"df-a2645a2b-b148-44a8-9f78-18c9565ee273\" class=\"colab-df-container\">\n",
              "    <div>\n",
              "<style scoped>\n",
              "    .dataframe tbody tr th:only-of-type {\n",
              "        vertical-align: middle;\n",
              "    }\n",
              "\n",
              "    .dataframe tbody tr th {\n",
              "        vertical-align: top;\n",
              "    }\n",
              "\n",
              "    .dataframe thead th {\n",
              "        text-align: right;\n",
              "    }\n",
              "</style>\n",
              "<table border=\"1\" class=\"dataframe\">\n",
              "  <thead>\n",
              "    <tr style=\"text-align: right;\">\n",
              "      <th></th>\n",
              "      <th>id</th>\n",
              "      <th>ticker</th>\n",
              "      <th>volume</th>\n",
              "      <th>volume_weighted_average</th>\n",
              "      <th>open</th>\n",
              "      <th>close</th>\n",
              "      <th>high</th>\n",
              "      <th>low</th>\n",
              "      <th>time</th>\n",
              "      <th>number_of_trades</th>\n",
              "      <th>dates</th>\n",
              "    </tr>\n",
              "  </thead>\n",
              "  <tbody>\n",
              "    <tr>\n",
              "      <th>0</th>\n",
              "      <td>146894</td>\n",
              "      <td>IAG</td>\n",
              "      <td>184929</td>\n",
              "      <td>1.4695</td>\n",
              "      <td>1.475</td>\n",
              "      <td>1.460</td>\n",
              "      <td>1.4750</td>\n",
              "      <td>1.46</td>\n",
              "      <td>1657643400000</td>\n",
              "      <td>196</td>\n",
              "      <td>2022-07-12 16:30:00</td>\n",
              "    </tr>\n",
              "    <tr>\n",
              "      <th>1</th>\n",
              "      <td>146895</td>\n",
              "      <td>IAG</td>\n",
              "      <td>95464</td>\n",
              "      <td>1.4598</td>\n",
              "      <td>1.465</td>\n",
              "      <td>1.465</td>\n",
              "      <td>1.4650</td>\n",
              "      <td>1.45</td>\n",
              "      <td>1657643700000</td>\n",
              "      <td>80</td>\n",
              "      <td>2022-07-12 16:35:00</td>\n",
              "    </tr>\n",
              "    <tr>\n",
              "      <th>2</th>\n",
              "      <td>146896</td>\n",
              "      <td>IAG</td>\n",
              "      <td>12896</td>\n",
              "      <td>1.4610</td>\n",
              "      <td>1.465</td>\n",
              "      <td>1.465</td>\n",
              "      <td>1.4699</td>\n",
              "      <td>1.46</td>\n",
              "      <td>1657644000000</td>\n",
              "      <td>22</td>\n",
              "      <td>2022-07-12 16:40:00</td>\n",
              "    </tr>\n",
              "    <tr>\n",
              "      <th>3</th>\n",
              "      <td>146897</td>\n",
              "      <td>IAG</td>\n",
              "      <td>29196</td>\n",
              "      <td>1.4590</td>\n",
              "      <td>1.460</td>\n",
              "      <td>1.450</td>\n",
              "      <td>1.4600</td>\n",
              "      <td>1.45</td>\n",
              "      <td>1657644300000</td>\n",
              "      <td>29</td>\n",
              "      <td>2022-07-12 16:45:00</td>\n",
              "    </tr>\n",
              "    <tr>\n",
              "      <th>4</th>\n",
              "      <td>146898</td>\n",
              "      <td>IAG</td>\n",
              "      <td>21968</td>\n",
              "      <td>1.4564</td>\n",
              "      <td>1.455</td>\n",
              "      <td>1.455</td>\n",
              "      <td>1.4600</td>\n",
              "      <td>1.45</td>\n",
              "      <td>1657644600000</td>\n",
              "      <td>22</td>\n",
              "      <td>2022-07-12 16:50:00</td>\n",
              "    </tr>\n",
              "  </tbody>\n",
              "</table>\n",
              "</div>\n",
              "    <div class=\"colab-df-buttons\">\n",
              "\n",
              "  <div class=\"colab-df-container\">\n",
              "    <button class=\"colab-df-convert\" onclick=\"convertToInteractive('df-a2645a2b-b148-44a8-9f78-18c9565ee273')\"\n",
              "            title=\"Convert this dataframe to an interactive table.\"\n",
              "            style=\"display:none;\">\n",
              "\n",
              "  <svg xmlns=\"http://www.w3.org/2000/svg\" height=\"24px\" viewBox=\"0 -960 960 960\">\n",
              "    <path d=\"M120-120v-720h720v720H120Zm60-500h600v-160H180v160Zm220 220h160v-160H400v160Zm0 220h160v-160H400v160ZM180-400h160v-160H180v160Zm440 0h160v-160H620v160ZM180-180h160v-160H180v160Zm440 0h160v-160H620v160Z\"/>\n",
              "  </svg>\n",
              "    </button>\n",
              "\n",
              "  <style>\n",
              "    .colab-df-container {\n",
              "      display:flex;\n",
              "      gap: 12px;\n",
              "    }\n",
              "\n",
              "    .colab-df-convert {\n",
              "      background-color: #E8F0FE;\n",
              "      border: none;\n",
              "      border-radius: 50%;\n",
              "      cursor: pointer;\n",
              "      display: none;\n",
              "      fill: #1967D2;\n",
              "      height: 32px;\n",
              "      padding: 0 0 0 0;\n",
              "      width: 32px;\n",
              "    }\n",
              "\n",
              "    .colab-df-convert:hover {\n",
              "      background-color: #E2EBFA;\n",
              "      box-shadow: 0px 1px 2px rgba(60, 64, 67, 0.3), 0px 1px 3px 1px rgba(60, 64, 67, 0.15);\n",
              "      fill: #174EA6;\n",
              "    }\n",
              "\n",
              "    .colab-df-buttons div {\n",
              "      margin-bottom: 4px;\n",
              "    }\n",
              "\n",
              "    [theme=dark] .colab-df-convert {\n",
              "      background-color: #3B4455;\n",
              "      fill: #D2E3FC;\n",
              "    }\n",
              "\n",
              "    [theme=dark] .colab-df-convert:hover {\n",
              "      background-color: #434B5C;\n",
              "      box-shadow: 0px 1px 3px 1px rgba(0, 0, 0, 0.15);\n",
              "      filter: drop-shadow(0px 1px 2px rgba(0, 0, 0, 0.3));\n",
              "      fill: #FFFFFF;\n",
              "    }\n",
              "  </style>\n",
              "\n",
              "    <script>\n",
              "      const buttonEl =\n",
              "        document.querySelector('#df-a2645a2b-b148-44a8-9f78-18c9565ee273 button.colab-df-convert');\n",
              "      buttonEl.style.display =\n",
              "        google.colab.kernel.accessAllowed ? 'block' : 'none';\n",
              "\n",
              "      async function convertToInteractive(key) {\n",
              "        const element = document.querySelector('#df-a2645a2b-b148-44a8-9f78-18c9565ee273');\n",
              "        const dataTable =\n",
              "          await google.colab.kernel.invokeFunction('convertToInteractive',\n",
              "                                                    [key], {});\n",
              "        if (!dataTable) return;\n",
              "\n",
              "        const docLinkHtml = 'Like what you see? Visit the ' +\n",
              "          '<a target=\"_blank\" href=https://colab.research.google.com/notebooks/data_table.ipynb>data table notebook</a>'\n",
              "          + ' to learn more about interactive tables.';\n",
              "        element.innerHTML = '';\n",
              "        dataTable['output_type'] = 'display_data';\n",
              "        await google.colab.output.renderOutput(dataTable, element);\n",
              "        const docLink = document.createElement('div');\n",
              "        docLink.innerHTML = docLinkHtml;\n",
              "        element.appendChild(docLink);\n",
              "      }\n",
              "    </script>\n",
              "  </div>\n",
              "\n",
              "\n",
              "<div id=\"df-b958c5af-6190-4cbe-9f4f-35c9970846db\">\n",
              "  <button class=\"colab-df-quickchart\" onclick=\"quickchart('df-b958c5af-6190-4cbe-9f4f-35c9970846db')\"\n",
              "            title=\"Suggest charts\"\n",
              "            style=\"display:none;\">\n",
              "\n",
              "<svg xmlns=\"http://www.w3.org/2000/svg\" height=\"24px\"viewBox=\"0 0 24 24\"\n",
              "     width=\"24px\">\n",
              "    <g>\n",
              "        <path d=\"M19 3H5c-1.1 0-2 .9-2 2v14c0 1.1.9 2 2 2h14c1.1 0 2-.9 2-2V5c0-1.1-.9-2-2-2zM9 17H7v-7h2v7zm4 0h-2V7h2v10zm4 0h-2v-4h2v4z\"/>\n",
              "    </g>\n",
              "</svg>\n",
              "  </button>\n",
              "\n",
              "<style>\n",
              "  .colab-df-quickchart {\n",
              "      --bg-color: #E8F0FE;\n",
              "      --fill-color: #1967D2;\n",
              "      --hover-bg-color: #E2EBFA;\n",
              "      --hover-fill-color: #174EA6;\n",
              "      --disabled-fill-color: #AAA;\n",
              "      --disabled-bg-color: #DDD;\n",
              "  }\n",
              "\n",
              "  [theme=dark] .colab-df-quickchart {\n",
              "      --bg-color: #3B4455;\n",
              "      --fill-color: #D2E3FC;\n",
              "      --hover-bg-color: #434B5C;\n",
              "      --hover-fill-color: #FFFFFF;\n",
              "      --disabled-bg-color: #3B4455;\n",
              "      --disabled-fill-color: #666;\n",
              "  }\n",
              "\n",
              "  .colab-df-quickchart {\n",
              "    background-color: var(--bg-color);\n",
              "    border: none;\n",
              "    border-radius: 50%;\n",
              "    cursor: pointer;\n",
              "    display: none;\n",
              "    fill: var(--fill-color);\n",
              "    height: 32px;\n",
              "    padding: 0;\n",
              "    width: 32px;\n",
              "  }\n",
              "\n",
              "  .colab-df-quickchart:hover {\n",
              "    background-color: var(--hover-bg-color);\n",
              "    box-shadow: 0 1px 2px rgba(60, 64, 67, 0.3), 0 1px 3px 1px rgba(60, 64, 67, 0.15);\n",
              "    fill: var(--button-hover-fill-color);\n",
              "  }\n",
              "\n",
              "  .colab-df-quickchart-complete:disabled,\n",
              "  .colab-df-quickchart-complete:disabled:hover {\n",
              "    background-color: var(--disabled-bg-color);\n",
              "    fill: var(--disabled-fill-color);\n",
              "    box-shadow: none;\n",
              "  }\n",
              "\n",
              "  .colab-df-spinner {\n",
              "    border: 2px solid var(--fill-color);\n",
              "    border-color: transparent;\n",
              "    border-bottom-color: var(--fill-color);\n",
              "    animation:\n",
              "      spin 1s steps(1) infinite;\n",
              "  }\n",
              "\n",
              "  @keyframes spin {\n",
              "    0% {\n",
              "      border-color: transparent;\n",
              "      border-bottom-color: var(--fill-color);\n",
              "      border-left-color: var(--fill-color);\n",
              "    }\n",
              "    20% {\n",
              "      border-color: transparent;\n",
              "      border-left-color: var(--fill-color);\n",
              "      border-top-color: var(--fill-color);\n",
              "    }\n",
              "    30% {\n",
              "      border-color: transparent;\n",
              "      border-left-color: var(--fill-color);\n",
              "      border-top-color: var(--fill-color);\n",
              "      border-right-color: var(--fill-color);\n",
              "    }\n",
              "    40% {\n",
              "      border-color: transparent;\n",
              "      border-right-color: var(--fill-color);\n",
              "      border-top-color: var(--fill-color);\n",
              "    }\n",
              "    60% {\n",
              "      border-color: transparent;\n",
              "      border-right-color: var(--fill-color);\n",
              "    }\n",
              "    80% {\n",
              "      border-color: transparent;\n",
              "      border-right-color: var(--fill-color);\n",
              "      border-bottom-color: var(--fill-color);\n",
              "    }\n",
              "    90% {\n",
              "      border-color: transparent;\n",
              "      border-bottom-color: var(--fill-color);\n",
              "    }\n",
              "  }\n",
              "</style>\n",
              "\n",
              "  <script>\n",
              "    async function quickchart(key) {\n",
              "      const quickchartButtonEl =\n",
              "        document.querySelector('#' + key + ' button');\n",
              "      quickchartButtonEl.disabled = true;  // To prevent multiple clicks.\n",
              "      quickchartButtonEl.classList.add('colab-df-spinner');\n",
              "      try {\n",
              "        const charts = await google.colab.kernel.invokeFunction(\n",
              "            'suggestCharts', [key], {});\n",
              "      } catch (error) {\n",
              "        console.error('Error during call to suggestCharts:', error);\n",
              "      }\n",
              "      quickchartButtonEl.classList.remove('colab-df-spinner');\n",
              "      quickchartButtonEl.classList.add('colab-df-quickchart-complete');\n",
              "    }\n",
              "    (() => {\n",
              "      let quickchartButtonEl =\n",
              "        document.querySelector('#df-b958c5af-6190-4cbe-9f4f-35c9970846db button');\n",
              "      quickchartButtonEl.style.display =\n",
              "        google.colab.kernel.accessAllowed ? 'block' : 'none';\n",
              "    })();\n",
              "  </script>\n",
              "</div>\n",
              "\n",
              "    </div>\n",
              "  </div>\n"
            ],
            "application/vnd.google.colaboratory.intrinsic+json": {
              "type": "dataframe",
              "variable_name": "data",
              "summary": "{\n  \"name\": \"data\",\n  \"rows\": 21230,\n  \"fields\": [\n    {\n      \"column\": \"id\",\n      \"properties\": {\n        \"dtype\": \"number\",\n        \"std\": 6128,\n        \"min\": 146894,\n        \"max\": 168123,\n        \"num_unique_values\": 21230,\n        \"samples\": [\n          161641,\n          160036,\n          150968\n        ],\n        \"semantic_type\": \"\",\n        \"description\": \"\"\n      }\n    },\n    {\n      \"column\": \"ticker\",\n      \"properties\": {\n        \"dtype\": \"category\",\n        \"num_unique_values\": 1,\n        \"samples\": [\n          \"IAG\"\n        ],\n        \"semantic_type\": \"\",\n        \"description\": \"\"\n      }\n    },\n    {\n      \"column\": \"volume\",\n      \"properties\": {\n        \"dtype\": \"number\",\n        \"std\": 98747,\n        \"min\": 100,\n        \"max\": 2182016,\n        \"num_unique_values\": 18236,\n        \"samples\": [\n          83367\n        ],\n        \"semantic_type\": \"\",\n        \"description\": \"\"\n      }\n    },\n    {\n      \"column\": \"volume_weighted_average\",\n      \"properties\": {\n        \"dtype\": \"number\",\n        \"std\": 0.7287325099752097,\n        \"min\": 0.9215,\n        \"max\": 4.57,\n        \"num_unique_values\": 12447,\n        \"samples\": [\n          1.4515\n        ],\n        \"semantic_type\": \"\",\n        \"description\": \"\"\n      }\n    },\n    {\n      \"column\": \"open\",\n      \"properties\": {\n        \"dtype\": \"number\",\n        \"std\": 0.7288079060513201,\n        \"min\": 0.9249,\n        \"max\": 4.57,\n        \"num_unique_values\": 2266,\n        \"samples\": [\n          1.254\n        ],\n        \"semantic_type\": \"\",\n        \"description\": \"\"\n      }\n    },\n    {\n      \"column\": \"close\",\n      \"properties\": {\n        \"dtype\": \"number\",\n        \"std\": 0.7286710714162479,\n        \"min\": 0.925,\n        \"max\": 4.58,\n        \"num_unique_values\": 2540,\n        \"samples\": [\n          2.2475\n        ],\n        \"semantic_type\": \"\",\n        \"description\": \"\"\n      }\n    },\n    {\n      \"column\": \"high\",\n      \"properties\": {\n        \"dtype\": \"number\",\n        \"std\": 0.7292485202807313,\n        \"min\": 0.9253,\n        \"max\": 4.58,\n        \"num_unique_values\": 2375,\n        \"samples\": [\n          3.625\n        ],\n        \"semantic_type\": \"\",\n        \"description\": \"\"\n      }\n    },\n    {\n      \"column\": \"low\",\n      \"properties\": {\n        \"dtype\": \"number\",\n        \"std\": 0.7281909198342988,\n        \"min\": 0.9201,\n        \"max\": 4.57,\n        \"num_unique_values\": 2286,\n        \"samples\": [\n          2.322\n        ],\n        \"semantic_type\": \"\",\n        \"description\": \"\"\n      }\n    },\n    {\n      \"column\": \"time\",\n      \"properties\": {\n        \"dtype\": \"number\",\n        \"std\": 17457486021,\n        \"min\": 1657643400000,\n        \"max\": 1717190400000,\n        \"num_unique_values\": 21230,\n        \"samples\": [\n          1699378200000\n        ],\n        \"semantic_type\": \"\",\n        \"description\": \"\"\n      }\n    },\n    {\n      \"column\": \"number_of_trades\",\n      \"properties\": {\n        \"dtype\": \"number\",\n        \"std\": 162,\n        \"min\": 1,\n        \"max\": 8557,\n        \"num_unique_values\": 837,\n        \"samples\": [\n          185\n        ],\n        \"semantic_type\": \"\",\n        \"description\": \"\"\n      }\n    },\n    {\n      \"column\": \"dates\",\n      \"properties\": {\n        \"dtype\": \"date\",\n        \"min\": \"2022-07-12 16:30:00\",\n        \"max\": \"2024-05-31 21:20:00\",\n        \"num_unique_values\": 21230,\n        \"samples\": [\n          \"2023-11-07 17:30:00\"\n        ],\n        \"semantic_type\": \"\",\n        \"description\": \"\"\n      }\n    }\n  ]\n}"
            }
          },
          "metadata": {},
          "execution_count": 16
        }
      ]
    },
    {
      "cell_type": "code",
      "source": [
        "features = data[['volume', 'volume_weighted_average', 'open', 'close', 'high', 'low']].values\n"
      ],
      "metadata": {
        "id": "WgFN1hTloOVT"
      },
      "execution_count": 17,
      "outputs": []
    },
    {
      "cell_type": "code",
      "source": [
        "\n",
        "# Select features to use\n",
        "# Normalize features\n",
        "scaler = MinMaxScaler(feature_range=(0, 1))\n",
        "scaled_features = scaler.fit_transform(features)\n",
        "\n",
        "def create_sequences(data, sequence_length):\n",
        "    xs, ys = [], []\n",
        "    for i in range(len(data) - sequence_length):\n",
        "        xs.append(data[i:i + sequence_length])\n",
        "        ys.append(data[i + sequence_length, 3])  # Index 3 for the 'close' price\n",
        "    return np.array(xs), np.array(ys)\n",
        "\n",
        "sequence_length = 10  # Number of time steps you want to use in sequences\n",
        "x, y = create_sequences(scaled_features, sequence_length)\n",
        "\n",
        "# Split data into train and test sets\n",
        "train_size = int(len(x) * 0.8)\n",
        "x_train, x_test = x[:train_size], x[train_size:]\n",
        "y_train, y_test = y[:train_size], y[train_size:]\n",
        "\n",
        "# Build LSTM model\n",
        "model = Sequential()\n",
        "model.add(LSTM(50, return_sequences=True, input_shape=(x_train.shape[1], x_train.shape[2])))\n",
        "model.add(LSTM(50))\n",
        "model.add(Dense(50, activation='relu'))\n",
        "model.add(Dropout(0.2))\n",
        "model.add(Dense(1))\n",
        "\n",
        "model.compile(optimizer='adam', loss='mse')\n",
        "\n",
        "# Train the model\n",
        "early_stopping = EarlyStopping(monitor='val_loss', patience=10, restore_best_weights=True)\n",
        "model.fit(x_train, y_train, epochs=100, batch_size=32, validation_split=0.1, callbacks=[early_stopping])\n",
        "\n",
        "# Evaluate the model\n",
        "model.evaluate(x_test, y_test)"
      ],
      "metadata": {
        "colab": {
          "base_uri": "https://localhost:8080/"
        },
        "id": "haeX3x8RNLDk",
        "outputId": "485ad413-baf5-4235-a01a-1d5c71b3af5c"
      },
      "execution_count": null,
      "outputs": [
        {
          "output_type": "stream",
          "name": "stdout",
          "text": [
            "Epoch 1/100\n",
            "478/478 [==============================] - 13s 19ms/step - loss: 0.0033 - val_loss: 9.1546e-05\n",
            "Epoch 2/100\n",
            "478/478 [==============================] - 6s 14ms/step - loss: 0.0015 - val_loss: 1.4848e-04\n",
            "Epoch 3/100\n",
            "478/478 [==============================] - 8s 16ms/step - loss: 9.9706e-04 - val_loss: 5.9936e-05\n",
            "Epoch 4/100\n",
            "478/478 [==============================] - 6s 13ms/step - loss: 7.3805e-04 - val_loss: 7.3878e-05\n",
            "Epoch 5/100\n",
            "478/478 [==============================] - 8s 16ms/step - loss: 5.7528e-04 - val_loss: 5.4530e-05\n",
            "Epoch 6/100\n",
            "478/478 [==============================] - 6s 14ms/step - loss: 5.1623e-04 - val_loss: 6.1263e-05\n",
            "Epoch 7/100\n",
            "478/478 [==============================] - 8s 16ms/step - loss: 4.9541e-04 - val_loss: 7.0786e-05\n",
            "Epoch 8/100\n",
            "478/478 [==============================] - 7s 14ms/step - loss: 4.7899e-04 - val_loss: 5.2170e-05\n",
            "Epoch 9/100\n",
            "478/478 [==============================] - 8s 16ms/step - loss: 4.6312e-04 - val_loss: 6.3767e-05\n",
            "Epoch 10/100\n",
            "478/478 [==============================] - 8s 17ms/step - loss: 4.5528e-04 - val_loss: 4.7140e-05\n",
            "Epoch 11/100\n",
            "478/478 [==============================] - 7s 14ms/step - loss: 4.4860e-04 - val_loss: 5.6529e-05\n",
            "Epoch 12/100\n",
            "478/478 [==============================] - 7s 15ms/step - loss: 4.5533e-04 - val_loss: 4.2733e-05\n",
            "Epoch 13/100\n",
            "478/478 [==============================] - 7s 15ms/step - loss: 4.3938e-04 - val_loss: 3.9997e-05\n",
            "Epoch 14/100\n",
            "478/478 [==============================] - 7s 15ms/step - loss: 4.3069e-04 - val_loss: 1.5623e-04\n",
            "Epoch 15/100\n",
            "478/478 [==============================] - 7s 14ms/step - loss: 4.3458e-04 - val_loss: 3.6721e-05\n",
            "Epoch 16/100\n",
            "478/478 [==============================] - 7s 15ms/step - loss: 4.4013e-04 - val_loss: 7.6875e-05\n",
            "Epoch 17/100\n",
            "478/478 [==============================] - 7s 14ms/step - loss: 4.3023e-04 - val_loss: 3.7806e-05\n",
            "Epoch 18/100\n",
            "478/478 [==============================] - 9s 19ms/step - loss: 4.4598e-04 - val_loss: 1.7728e-04\n",
            "Epoch 19/100\n",
            "478/478 [==============================] - 7s 14ms/step - loss: 4.3723e-04 - val_loss: 2.9763e-05\n",
            "Epoch 20/100\n",
            "478/478 [==============================] - 8s 17ms/step - loss: 4.2968e-04 - val_loss: 5.4693e-05\n",
            "Epoch 21/100\n",
            "478/478 [==============================] - 6s 13ms/step - loss: 4.2861e-04 - val_loss: 4.8662e-05\n",
            "Epoch 22/100\n",
            "478/478 [==============================] - 8s 16ms/step - loss: 4.2874e-04 - val_loss: 4.2231e-05\n",
            "Epoch 23/100\n",
            "478/478 [==============================] - 6s 13ms/step - loss: 4.1935e-04 - val_loss: 2.6361e-05\n",
            "Epoch 24/100\n",
            "478/478 [==============================] - 8s 16ms/step - loss: 4.2348e-04 - val_loss: 8.5721e-05\n",
            "Epoch 25/100\n",
            "478/478 [==============================] - 6s 13ms/step - loss: 4.1452e-04 - val_loss: 3.0255e-05\n",
            "Epoch 26/100\n",
            "478/478 [==============================] - 8s 16ms/step - loss: 4.2341e-04 - val_loss: 6.0456e-05\n",
            "Epoch 27/100\n",
            "478/478 [==============================] - 6s 13ms/step - loss: 4.2159e-04 - val_loss: 1.1795e-04\n",
            "Epoch 28/100\n",
            "478/478 [==============================] - 8s 16ms/step - loss: 4.0864e-04 - val_loss: 1.4321e-04\n",
            "Epoch 29/100\n",
            "478/478 [==============================] - 7s 14ms/step - loss: 4.0504e-04 - val_loss: 1.1134e-04\n",
            "Epoch 30/100\n",
            "478/478 [==============================] - 8s 16ms/step - loss: 4.1549e-04 - val_loss: 7.3061e-05\n",
            "Epoch 31/100\n",
            "478/478 [==============================] - 7s 14ms/step - loss: 3.9216e-04 - val_loss: 5.7356e-05\n",
            "Epoch 32/100\n",
            "478/478 [==============================] - 7s 16ms/step - loss: 4.1297e-04 - val_loss: 3.2449e-05\n",
            "Epoch 33/100\n",
            "478/478 [==============================] - 7s 15ms/step - loss: 4.1334e-04 - val_loss: 6.6748e-05\n",
            "133/133 [==============================] - 1s 6ms/step - loss: 6.3245e-05\n"
          ]
        },
        {
          "output_type": "execute_result",
          "data": {
            "text/plain": [
              "6.324494461296126e-05"
            ]
          },
          "metadata": {},
          "execution_count": 6
        }
      ]
    },
    {
      "cell_type": "code",
      "source": [
        "print(features[0:,])"
      ],
      "metadata": {
        "colab": {
          "base_uri": "https://localhost:8080/"
        },
        "id": "b6Elq4tCl0Ld",
        "outputId": "60b1a5cb-6cdb-4306-8613-f14d59f091ba"
      },
      "execution_count": null,
      "outputs": [
        {
          "output_type": "stream",
          "name": "stdout",
          "text": [
            "[[5.50760e+04 1.30370e+00 1.31500e+00 1.29500e+00 1.32000e+00 1.29470e+00]\n",
            " [1.43647e+05 1.30300e+00 1.29950e+00 1.31500e+00 1.31500e+00 1.29500e+00]\n",
            " [4.19990e+04 1.31300e+00 1.31500e+00 1.31500e+00 1.32000e+00 1.31000e+00]\n",
            " ...\n",
            " [2.80000e+02 1.11000e+00 1.11000e+00 1.11000e+00 1.11000e+00 1.11000e+00]\n",
            " [2.50000e+02 1.12000e+00 1.12000e+00 1.12000e+00 1.12000e+00 1.12000e+00]\n",
            " [9.00000e+02 1.12000e+00 1.12000e+00 1.12000e+00 1.12000e+00 1.12000e+00]]\n"
          ]
        }
      ]
    },
    {
      "cell_type": "code",
      "source": [
        "predictions = model.predict(x_test)\n",
        "#predictions = scaler.inverse_transform(np.concatenate((x_test[:, -1, 1:], predictions), axis=1))[:, -1]\n",
        "\n",
        "# Plot predictions\n",
        "import matplotlib.pyplot as plt\n",
        "m_scaler = MinMaxScaler()\n",
        "print(predictions)\n",
        "m_scaler.min_, m_scaler.scale_ = scaler.min_[3], scaler.scale_[3]\n",
        "plt.plot(m_scaler.inverse_transform(predictions), label='Predictions')\n",
        "plt.plot(features[:, 3][train_size:], label='Actual')\n",
        "plt.legend()\n",
        "plt.show()"
      ],
      "metadata": {
        "id": "t2U4mEHotNMJ",
        "colab": {
          "base_uri": "https://localhost:8080/",
          "height": 573
        },
        "outputId": "ad79419b-05ae-4260-cf55-5596968224d3"
      },
      "execution_count": null,
      "outputs": [
        {
          "output_type": "stream",
          "name": "stdout",
          "text": [
            "133/133 [==============================] - 2s 5ms/step\n",
            "[[0.46370545]\n",
            " [0.46346548]\n",
            " [0.4646117 ]\n",
            " ...\n",
            " [0.81602716]\n",
            " [0.81368786]\n",
            " [0.81386787]]\n"
          ]
        },
        {
          "output_type": "display_data",
          "data": {
            "text/plain": [
              "<Figure size 640x480 with 1 Axes>"
            ],
            "image/png": "[encoded data removed]"
          },
          "metadata": {}
        }
      ]
    }
  ]
}